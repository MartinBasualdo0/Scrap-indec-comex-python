{
 "cells": [
  {
   "cell_type": "code",
   "execution_count": 1,
   "metadata": {},
   "outputs": [],
   "source": [
    "import pandas as pd\n",
    "from selenium import webdriver\n",
    "from selenium.webdriver.support.ui import WebDriverWait\n",
    "import time\n",
    "from datetime import datetime\n",
    "import os\n",
    "from glob import glob #para eliminar archivos dentro de carpeta\n",
    "import plotly.graph_objects as go\n",
    "from plotly.subplots import make_subplots\n",
    "from selenium.webdriver.chrome.service import Service\n",
    "from webdriver_manager.chrome import ChromeDriverManager"
   ]
  },
  {
   "cell_type": "code",
   "execution_count": 2,
   "metadata": {},
   "outputs": [],
   "source": [
    "def inicio_driver(link:str):\n",
    "    service = Service(ChromeDriverManager().install())\n",
    "    carpeta_descarga=os.getcwd().replace('src','downloads')\n",
    "    prefs = {'download.default_directory' : carpeta_descarga,\n",
    "        \"directory_upgrade\": True}\n",
    "    chrome_options = webdriver.ChromeOptions()\n",
    "    chrome_options.add_experimental_option(\"prefs\", prefs)\n",
    "    driver = webdriver.Chrome(service=service, options=chrome_options)\n",
    "    driver.get(link)\n",
    "    driver.maximize_window()\n",
    "    return driver\n",
    "def every_downloads_chrome(driver):\n",
    "    '''Para ver cuando terminan las descargas'''\n",
    "    if not driver.current_url.startswith(\"chrome://downloads\"):\n",
    "        driver.get(\"chrome://downloads/\")\n",
    "    return driver.execute_script(\"\"\"\n",
    "        var items = document.querySelector('downloads-manager')\n",
    "            .shadowRoot.getElementById('downloadsList').items;\n",
    "        if (items.every(e => e.state === \"COMPLETE\"))\n",
    "            return items.map(e => e.fileUrl || e.file_url);\n",
    "        \"\"\")"
   ]
  },
  {
   "cell_type": "code",
   "execution_count": 3,
   "metadata": {},
   "outputs": [
    {
     "ename": "TimeoutException",
     "evalue": "Message: \n",
     "output_type": "error",
     "traceback": [
      "\u001b[1;31m---------------------------------------------------------------------------\u001b[0m",
      "\u001b[1;31mTimeoutException\u001b[0m                          Traceback (most recent call last)",
      "\u001b[1;32mc:\\Users\\mbasualdo\\Documents\\Trabajos INDEC\\2 -Scrap-indec-comex-python\\src\\scrap_indices.ipynb Cell 3\u001b[0m line \u001b[0;36m2\n\u001b[0;32m     <a href='vscode-notebook-cell:/c%3A/Users/mbasualdo/Documents/Trabajos%20INDEC/2%20-Scrap-indec-comex-python/src/scrap_indices.ipynb#W2sZmlsZQ%3D%3D?line=15'>16</a>\u001b[0m driver\u001b[39m.\u001b[39mget(link_anual_indices)\n\u001b[0;32m     <a href='vscode-notebook-cell:/c%3A/Users/mbasualdo/Documents/Trabajos%20INDEC/2%20-Scrap-indec-comex-python/src/scrap_indices.ipynb#W2sZmlsZQ%3D%3D?line=19'>20</a>\u001b[0m \u001b[39m# waits for all the files to be completed and returns the paths\u001b[39;00m\n\u001b[1;32m---> <a href='vscode-notebook-cell:/c%3A/Users/mbasualdo/Documents/Trabajos%20INDEC/2%20-Scrap-indec-comex-python/src/scrap_indices.ipynb#W2sZmlsZQ%3D%3D?line=20'>21</a>\u001b[0m paths \u001b[39m=\u001b[39m WebDriverWait(driver, \u001b[39m120\u001b[39;49m, \u001b[39m1\u001b[39;49m)\u001b[39m.\u001b[39;49muntil(every_downloads_chrome)\n\u001b[0;32m     <a href='vscode-notebook-cell:/c%3A/Users/mbasualdo/Documents/Trabajos%20INDEC/2%20-Scrap-indec-comex-python/src/scrap_indices.ipynb#W2sZmlsZQ%3D%3D?line=22'>23</a>\u001b[0m driver\u001b[39m.\u001b[39mquit()\n",
      "File \u001b[1;32mc:\\Users\\mbasualdo\\Documents\\Trabajos INDEC\\2 -Scrap-indec-comex-python\\.venv\\Lib\\site-packages\\selenium\\webdriver\\support\\wait.py:95\u001b[0m, in \u001b[0;36mWebDriverWait.until\u001b[1;34m(self, method, message)\u001b[0m\n\u001b[0;32m     93\u001b[0m     \u001b[39mif\u001b[39;00m time\u001b[39m.\u001b[39mmonotonic() \u001b[39m>\u001b[39m end_time:\n\u001b[0;32m     94\u001b[0m         \u001b[39mbreak\u001b[39;00m\n\u001b[1;32m---> 95\u001b[0m \u001b[39mraise\u001b[39;00m TimeoutException(message, screen, stacktrace)\n",
      "\u001b[1;31mTimeoutException\u001b[0m: Message: \n"
     ]
    }
   ],
   "source": [
    "link_indec=\"https://www.indec.gob.ar/indec/web/Nivel4-Tema-3-2-41\"\n",
    "\n",
    "link_anual_rubro='https://www.indec.gob.ar/ftp/cuadros/economia/indicesexpgr_04.xls'\n",
    "link_anual_uso='https://www.indec.gob.ar/ftp/cuadros/economia/indicesimpue_04.xls'\n",
    "link_mensual_rubro='https://www.indec.gob.ar/ftp/cuadros/economia/serie_mensual_indices_expo.xls'\n",
    "link_mensual_uso='https://www.indec.gob.ar/ftp/cuadros/economia/serie_mensual_indices_impo_ue.xls'\n",
    "\n",
    "link_anual_indices = 'https://www.indec.gob.ar/ftp/cuadros/economia/expindices_04.xls'\n",
    "\n",
    "driver = inicio_driver(link_indec)\n",
    "\n",
    "driver.get(link_anual_rubro)\n",
    "driver.get(link_anual_uso)\n",
    "driver.get(link_mensual_rubro)\n",
    "driver.get(link_mensual_uso)\n",
    "driver.get(link_anual_indices)\n",
    "\n",
    "\n",
    "\n",
    "# waits for all the files to be completed and returns the paths\n",
    "paths = WebDriverWait(driver, 120, 1).until(every_downloads_chrome)\n",
    "\n",
    "driver.quit()"
   ]
  },
  {
   "cell_type": "code",
   "execution_count": 7,
   "metadata": {},
   "outputs": [],
   "source": [
    "def lectura_indices_anuales():\n",
    "    columns_indices_anuales = [\"Período\",\"vx\",\"px\",\"qx\",\"d\",\"vm\",\"pm\",\"qm\",\"d2\",\"tot\"]\n",
    "    indices_anuales = pd.read_excel(\"../downloads/expindices_04.xls\",names=columns_indices_anuales, header=5, skipfooter=6)\n",
    "    indices_anuales.Período = indices_anuales.Período.str.replace(\"*\",\"\", regex=False)\n",
    "    indices_anuales = (indices_anuales.dropna(axis=1)\n",
    "        # .drop([\"vx\",\"vm\",\"pm\",\"qm\",\"tot\"],axis = 1)\n",
    "        .rename(dict(px = \"Índice de precios de las expos\", qx = \"Índice de cantidad de las expos\"), axis=1)\n",
    "        .set_index(\"Período\"))\n",
    "    return indices_anuales\n"
   ]
  },
  {
   "cell_type": "code",
   "execution_count": 9,
   "metadata": {},
   "outputs": [],
   "source": [
    "indices_anuales = lectura_indices_anuales()"
   ]
  },
  {
   "cell_type": "code",
   "execution_count": 12,
   "metadata": {},
   "outputs": [
    {
     "data": {
      "text/html": [
       "<div>\n",
       "<style scoped>\n",
       "    .dataframe tbody tr th:only-of-type {\n",
       "        vertical-align: middle;\n",
       "    }\n",
       "\n",
       "    .dataframe tbody tr th {\n",
       "        vertical-align: top;\n",
       "    }\n",
       "\n",
       "    .dataframe thead th {\n",
       "        text-align: right;\n",
       "    }\n",
       "</style>\n",
       "<table border=\"1\" class=\"dataframe\">\n",
       "  <thead>\n",
       "    <tr style=\"text-align: right;\">\n",
       "      <th></th>\n",
       "      <th>vx</th>\n",
       "      <th>Índice de precios de las expos</th>\n",
       "      <th>Índice de cantidad de las expos</th>\n",
       "      <th>vm</th>\n",
       "      <th>pm</th>\n",
       "      <th>qm</th>\n",
       "      <th>tot</th>\n",
       "    </tr>\n",
       "    <tr>\n",
       "      <th>Período</th>\n",
       "      <th></th>\n",
       "      <th></th>\n",
       "      <th></th>\n",
       "      <th></th>\n",
       "      <th></th>\n",
       "      <th></th>\n",
       "      <th></th>\n",
       "    </tr>\n",
       "  </thead>\n",
       "  <tbody>\n",
       "    <tr>\n",
       "      <th>1986</th>\n",
       "      <td>19.8</td>\n",
       "      <td>72.7</td>\n",
       "      <td>27.3</td>\n",
       "      <td>21.1</td>\n",
       "      <td>96.4</td>\n",
       "      <td>21.9</td>\n",
       "      <td>75.414938</td>\n",
       "    </tr>\n",
       "    <tr>\n",
       "      <th>1987</th>\n",
       "      <td>18.4</td>\n",
       "      <td>76.0</td>\n",
       "      <td>24.2</td>\n",
       "      <td>25.9</td>\n",
       "      <td>94.1</td>\n",
       "      <td>27.5</td>\n",
       "      <td>80.765143</td>\n",
       "    </tr>\n",
       "    <tr>\n",
       "      <th>1988</th>\n",
       "      <td>26.4</td>\n",
       "      <td>88.2</td>\n",
       "      <td>29.9</td>\n",
       "      <td>23.7</td>\n",
       "      <td>100.5</td>\n",
       "      <td>23.6</td>\n",
       "      <td>87.761194</td>\n",
       "    </tr>\n",
       "    <tr>\n",
       "      <th>1989</th>\n",
       "      <td>27.7</td>\n",
       "      <td>90.1</td>\n",
       "      <td>30.7</td>\n",
       "      <td>18.7</td>\n",
       "      <td>110.3</td>\n",
       "      <td>17.0</td>\n",
       "      <td>81.686310</td>\n",
       "    </tr>\n",
       "    <tr>\n",
       "      <th>1990</th>\n",
       "      <td>35.7</td>\n",
       "      <td>87.9</td>\n",
       "      <td>40.7</td>\n",
       "      <td>18.2</td>\n",
       "      <td>113.2</td>\n",
       "      <td>16.0</td>\n",
       "      <td>77.650177</td>\n",
       "    </tr>\n",
       "  </tbody>\n",
       "</table>\n",
       "</div>"
      ],
      "text/plain": [
       "           vx  Índice de precios de las expos   \n",
       "Período                                         \n",
       "1986     19.8                            72.7  \\\n",
       "1987     18.4                            76.0   \n",
       "1988     26.4                            88.2   \n",
       "1989     27.7                            90.1   \n",
       "1990     35.7                            87.9   \n",
       "\n",
       "         Índice de cantidad de las expos    vm     pm    qm        tot  \n",
       "Período                                                                 \n",
       "1986                                27.3  21.1   96.4  21.9  75.414938  \n",
       "1987                                24.2  25.9   94.1  27.5  80.765143  \n",
       "1988                                29.9  23.7  100.5  23.6  87.761194  \n",
       "1989                                30.7  18.7  110.3  17.0  81.686310  \n",
       "1990                                40.7  18.2  113.2  16.0  77.650177  "
      ]
     },
     "execution_count": 12,
     "metadata": {},
     "output_type": "execute_result"
    }
   ],
   "source": [
    "indices_anuales.head(5)"
   ]
  },
  {
   "cell_type": "code",
   "execution_count": 15,
   "metadata": {},
   "outputs": [
    {
     "data": {
      "application/vnd.plotly.v1+json": {
       "config": {
        "plotlyServerURL": "https://plot.ly"
       },
       "data": [
        {
         "mode": "lines+markers",
         "name": "Índice de precios de las expos",
         "type": "scatter",
         "x": [
          "1986",
          "1987",
          "1988",
          "1989",
          "1990",
          "1991",
          "1992",
          "1993",
          "1994",
          "1995",
          "1996",
          "1997",
          "1998",
          "1999",
          "2000",
          "2001",
          "2002",
          "2003",
          "2004",
          "2005",
          "2006",
          "2007",
          "2008",
          "2009",
          "2010",
          "2011",
          "2012",
          "2013",
          "2014",
          "2015",
          "2016",
          "2017",
          "2018",
          "2019",
          "2020",
          "2021",
          "2022"
         ],
         "y": [
          72.7,
          76,
          88.2,
          90.1,
          87.9,
          85.7,
          87.2,
          86.2,
          88,
          94.1,
          99.4,
          95.9,
          85.1,
          76.6,
          85,
          80.7,
          77.9,
          86.5,
          100,
          104.6,
          115.3,
          130.9,
          165.4,
          147.3,
          158.6,
          188.7,
          193.2,
          190.5,
          186,
          157,
          149.9,
          152,
          160.6,
          150.9,
          146.5,
          184.3,
          214.1
         ]
        },
        {
         "mode": "lines+markers",
         "name": "Índice de cantidad de las expos",
         "type": "scatter",
         "x": [
          "1986",
          "1987",
          "1988",
          "1989",
          "1990",
          "1991",
          "1992",
          "1993",
          "1994",
          "1995",
          "1996",
          "1997",
          "1998",
          "1999",
          "2000",
          "2001",
          "2002",
          "2003",
          "2004",
          "2005",
          "2006",
          "2007",
          "2008",
          "2009",
          "2010",
          "2011",
          "2012",
          "2013",
          "2014",
          "2015",
          "2016",
          "2017",
          "2018",
          "2019",
          "2020",
          "2021",
          "2022"
         ],
         "y": [
          27.3,
          24.2,
          29.9,
          30.7,
          40.7,
          40.4,
          40.6,
          44,
          52.1,
          64.4,
          69.3,
          79.7,
          89.9,
          88,
          89.6,
          95.1,
          95.3,
          100.1,
          100,
          111.7,
          116.7,
          123.7,
          122.5,
          109.3,
          124.3,
          127.2,
          119.7,
          115.3,
          106.4,
          104.60000000000001,
          111.7,
          111.6,
          111.2,
          124.8,
          108.4,
          122.3,
          119.5
         ]
        }
       ],
       "layout": {
        "annotations": [
         {
          "arrowhead": 1,
          "ax": -20,
          "showarrow": true,
          "text": "Sequia",
          "x": 1989,
          "y": 30.7,
          "yshift": 5
         },
         {
          "align": "left",
          "arrowhead": 1,
          "ax": 0,
          "ay": 25,
          "showarrow": true,
          "text": "Sequia",
          "x": 1996,
          "y": 69.3,
          "yshift": -5
         },
         {
          "align": "left",
          "arrowhead": 1,
          "ax": 0,
          "ay": 30,
          "showarrow": true,
          "text": "Sequia y crisis financiera global",
          "x": 2009,
          "y": 109.3,
          "yshift": -5
         },
         {
          "align": "left",
          "arrowhead": 1,
          "ax": 0,
          "ay": 30,
          "showarrow": true,
          "text": "Sequia",
          "x": 2018,
          "y": 111.2,
          "yshift": -5
         },
         {
          "align": "left",
          "arrowhead": 1,
          "ax": 0,
          "ay": 30,
          "showarrow": true,
          "text": "Covid-19",
          "x": 2020,
          "y": 108.4,
          "yshift": -5
         },
         {
          "showarrow": false,
          "text": "Alfonsín",
          "x": 1987.25,
          "y": 140
         },
         {
          "showarrow": false,
          "text": "Menemismo",
          "x": 1994,
          "y": 150
         },
         {
          "showarrow": false,
          "text": "Crisis",
          "x": 2001,
          "y": 160
         },
         {
          "showarrow": false,
          "text": "Kircherismo I",
          "x": 2005,
          "y": 160
         },
         {
          "showarrow": false,
          "text": "Kircherismo II",
          "x": 2009,
          "y": 185
         },
         {
          "showarrow": false,
          "text": "Kircherismo III",
          "x": 2013,
          "y": 160
         },
         {
          "showarrow": false,
          "text": "Macrismo",
          "x": 2017,
          "y": 165
         },
         {
          "showarrow": false,
          "text": "Alberto F.",
          "x": 2021,
          "y": 135
         },
         {
          "font": {
           "size": 12
          },
          "showarrow": false,
          "text": "Fuente: INDEC",
          "x": 0.25,
          "xanchor": "right",
          "xref": "paper",
          "xshift": 0,
          "y": -0.15,
          "yanchor": "auto",
          "yref": "paper",
          "yshift": 0
         }
        ],
        "font": {
         "family": "Georgia"
        },
        "height": 600,
        "legend": {
         "orientation": "h",
         "x": 0.01,
         "xanchor": "left",
         "y": 1.1,
         "yanchor": "top"
        },
        "separators": ",.",
        "shapes": [
         {
          "line": {
           "color": "Black",
           "dash": "dash",
           "width": 1
          },
          "type": "line",
          "x0": 1989,
          "x1": 1989,
          "xref": "x",
          "y0": 0,
          "y1": 1,
          "yref": "y domain"
         },
         {
          "line": {
           "color": "Black",
           "dash": "dash",
           "width": 1
          },
          "type": "line",
          "x0": 1999,
          "x1": 1999,
          "xref": "x",
          "y0": 0,
          "y1": 1,
          "yref": "y domain"
         },
         {
          "line": {
           "color": "Black",
           "dash": "dash",
           "width": 1
          },
          "type": "line",
          "x0": 2003,
          "x1": 2003,
          "xref": "x",
          "y0": 0,
          "y1": 1,
          "yref": "y domain"
         },
         {
          "line": {
           "color": "Black",
           "dash": "dash",
           "width": 1
          },
          "type": "line",
          "x0": 2007,
          "x1": 2007,
          "xref": "x",
          "y0": 0,
          "y1": 1,
          "yref": "y domain"
         },
         {
          "line": {
           "color": "Black",
           "dash": "dash",
           "width": 1
          },
          "type": "line",
          "x0": 2011,
          "x1": 2011,
          "xref": "x",
          "y0": 0,
          "y1": 1,
          "yref": "y domain"
         },
         {
          "line": {
           "color": "Black",
           "dash": "dash",
           "width": 1
          },
          "type": "line",
          "x0": 2015,
          "x1": 2015,
          "xref": "x",
          "y0": 0,
          "y1": 1,
          "yref": "y domain"
         },
         {
          "line": {
           "color": "Black",
           "dash": "dash",
           "width": 1
          },
          "type": "line",
          "x0": 2019,
          "x1": 2019,
          "xref": "x",
          "y0": 0,
          "y1": 1,
          "yref": "y domain"
         }
        ],
        "template": {
         "data": {
          "scatter": [
           {
            "type": "scatter"
           }
          ]
         }
        },
        "title": {
         "text": "Estancamiento exportador Argentino: un panorama de largo plazo"
        },
        "width": 1000,
        "xaxis": {
         "range": [
          1985.5,
          2022.5
         ],
         "showgrid": true,
         "tickmode": "linear"
        },
        "yaxis": {
         "title": {
          "text": "índices. Base 2004 = 100"
         }
        }
       }
      }
     },
     "metadata": {},
     "output_type": "display_data"
    }
   ],
   "source": [
    "def plot_serie_indices_anuales():\n",
    "    indices_anuales = lectura_indices_anuales()\n",
    "    fig = go.Figure()\n",
    "    # for columna in indices_anuales.columns:\n",
    "    fig.add_trace(go.Scatter( name = \"Índice de precios de las expos\", x=indices_anuales.index, y=indices_anuales[\"Índice de precios de las expos\"], mode = \"lines+markers\"))\n",
    "    fig.add_trace(go.Scatter( name = \"Índice de cantidad de las expos\", x=indices_anuales.index, y=indices_anuales[\"Índice de cantidad de las expos\"], mode = \"lines+markers\"))\n",
    "\n",
    "    #Propiedades\n",
    "    fig.update_xaxes(showgrid=True)\n",
    "    fig.update_yaxes(title_text=\"índices. Base 2004 = 100\")\n",
    "    fig.update_layout(separators=\",.\", font_family=\"Georgia\", \n",
    "    #  margin ={'t': 0},\n",
    "    height=600, width=1000,\n",
    "    xaxis_range = [1985.5,2022.5],\n",
    "    xaxis = dict(tickmode = \"linear\"),\n",
    "    template = 'none',\n",
    "    title_text=\"Estancamiento exportador Argentino: un panorama de largo plazo\",\n",
    "    legend = dict(yanchor=\"top\",y=1.1, xanchor=\"left\",x=0.01, orientation = \"h\")\n",
    "    )\n",
    "\n",
    "    #Sequías\n",
    "    fig.add_annotation(x=1989, y=30.7, text=\"Sequia\", yshift=5, ax=-20,showarrow=True, arrowhead=1)\n",
    "    fig.add_annotation(x=1996, y=69.3, align=\"left\", text=\"Sequia\", ax=0 , ay=25, yshift=-5, showarrow=True, arrowhead=1)\n",
    "    fig.add_annotation(x=2009, y=109.3, align=\"left\", text=\"Sequia y crisis financiera global\", ax=0 , ay=30, yshift=-5, showarrow=True, arrowhead=1)\n",
    "    fig.add_annotation(x=2018, y=111.2, align=\"left\", text=\"Sequia\", ax=0 , ay=30, yshift=-5, showarrow=True, arrowhead=1)\n",
    "    fig.add_annotation(x=2020, y=108.4, align=\"left\", text=\"Covid-19\", ax=0 , ay=30, yshift=-5, showarrow=True, arrowhead=1)\n",
    "    #Presidencias\n",
    "    fig.add_vline(x=1989, line_width=1, line_dash=\"dash\", line_color=\"Black\")\n",
    "    fig.add_vline(x=1999, line_width=1, line_dash=\"dash\", line_color=\"Black\")\n",
    "    fig.add_vline(x=2003, line_width=1, line_dash=\"dash\", line_color=\"Black\")\n",
    "    fig.add_vline(x=2007, line_width=1, line_dash=\"dash\", line_color=\"Black\")\n",
    "    fig.add_vline(x=2011, line_width=1, line_dash=\"dash\", line_color=\"Black\")\n",
    "    fig.add_vline(x=2015, line_width=1, line_dash=\"dash\", line_color=\"Black\")\n",
    "    fig.add_vline(x=2019, line_width=1, line_dash=\"dash\", line_color=\"Black\")\n",
    "    fig.add_annotation(text=\"Alfonsín\", x=1987.25, y=140, showarrow=False)\n",
    "    fig.add_annotation(text=\"Menemismo\", x=1994, y=150, showarrow=False)\n",
    "    fig.add_annotation(text=\"Crisis\", x=2001, y=160, showarrow=False)\n",
    "    fig.add_annotation(text=\"Kircherismo I\", x=2005, y=160, showarrow=False)\n",
    "    fig.add_annotation(text=\"Kircherismo II\", x=2009, y=185, showarrow=False)\n",
    "    fig.add_annotation(text=\"Kircherismo III\", x=2013, y=160, showarrow=False)\n",
    "    fig.add_annotation(text=\"Macrismo\", x=2017, y=165, showarrow=False)\n",
    "    fig.add_annotation(text=\"Alberto F.\", x=2021, y=135, showarrow=False)\n",
    "\n",
    "    #Nota al pie\n",
    "    note = 'Fuente: INDEC'\n",
    "    fig.add_annotation(showarrow=False, text=note,font=dict(size=12), xref='paper',x=0.25,yref='paper', y=-0.15, \n",
    "                            xanchor='right', yanchor='auto', xshift=0, yshift=0,)\n",
    "    return fig\n",
    "\n",
    "plot_serie_indices_anuales()\n",
    "\n",
    "    "
   ]
  },
  {
   "cell_type": "code",
   "execution_count": 16,
   "metadata": {},
   "outputs": [
    {
     "data": {
      "text/plain": [
       "Index(['vx', 'Índice de precios de las expos',\n",
       "       'Índice de cantidad de las expos', 'vm', 'pm', 'qm', 'tot'],\n",
       "      dtype='object')"
      ]
     },
     "execution_count": 16,
     "metadata": {},
     "output_type": "execute_result"
    }
   ],
   "source": [
    "indices_anuales.columns"
   ]
  },
  {
   "cell_type": "code",
   "execution_count": 19,
   "metadata": {},
   "outputs": [
    {
     "data": {
      "application/vnd.plotly.v1+json": {
       "config": {
        "plotlyServerURL": "https://plot.ly"
       },
       "data": [
        {
         "mode": "lines+markers",
         "name": "Índice de precios de las expos",
         "type": "scatter",
         "x": [
          "1986",
          "1987",
          "1988",
          "1989",
          "1990",
          "1991",
          "1992",
          "1993",
          "1994",
          "1995",
          "1996",
          "1997",
          "1998",
          "1999",
          "2000",
          "2001",
          "2002",
          "2003",
          "2004",
          "2005",
          "2006",
          "2007",
          "2008",
          "2009",
          "2010",
          "2011",
          "2012",
          "2013",
          "2014",
          "2015",
          "2016",
          "2017",
          "2018",
          "2019",
          "2020",
          "2021",
          "2022"
         ],
         "y": [
          72.7,
          76,
          88.2,
          90.1,
          87.9,
          85.7,
          87.2,
          86.2,
          88,
          94.1,
          99.4,
          95.9,
          85.1,
          76.6,
          85,
          80.7,
          77.9,
          86.5,
          100,
          104.6,
          115.3,
          130.9,
          165.4,
          147.3,
          158.6,
          188.7,
          193.2,
          190.5,
          186,
          157,
          149.9,
          152,
          160.6,
          150.9,
          146.5,
          184.3,
          214.1
         ]
        },
        {
         "mode": "lines+markers",
         "name": "Índice de precios de las impos",
         "type": "scatter",
         "x": [
          "1986",
          "1987",
          "1988",
          "1989",
          "1990",
          "1991",
          "1992",
          "1993",
          "1994",
          "1995",
          "1996",
          "1997",
          "1998",
          "1999",
          "2000",
          "2001",
          "2002",
          "2003",
          "2004",
          "2005",
          "2006",
          "2007",
          "2008",
          "2009",
          "2010",
          "2011",
          "2012",
          "2013",
          "2014",
          "2015",
          "2016",
          "2017",
          "2018",
          "2019",
          "2020",
          "2021",
          "2022"
         ],
         "y": [
          96.4,
          94.1,
          100.5,
          110.3,
          113.2,
          108,
          104.1,
          103.1,
          104.3,
          107,
          107.7,
          106.3,
          100.1,
          96.8,
          98.3,
          95.6,
          90.2,
          92.6,
          100,
          107.8,
          113.8,
          121.7,
          137.2,
          121.1,
          126.8,
          136,
          133.5,
          140.9,
          140.3,
          124.3,
          111.7,
          116.7,
          122.2,
          115.60000000000001,
          111.60000000000001,
          128,
          148.8
         ]
        },
        {
         "mode": "lines+markers",
         "name": "Índice de los términos del intercambio",
         "type": "scatter",
         "x": [
          "1986",
          "1987",
          "1988",
          "1989",
          "1990",
          "1991",
          "1992",
          "1993",
          "1994",
          "1995",
          "1996",
          "1997",
          "1998",
          "1999",
          "2000",
          "2001",
          "2002",
          "2003",
          "2004",
          "2005",
          "2006",
          "2007",
          "2008",
          "2009",
          "2010",
          "2011",
          "2012",
          "2013",
          "2014",
          "2015",
          "2016",
          "2017",
          "2018",
          "2019",
          "2020",
          "2021",
          "2022"
         ],
         "y": [
          75.4149377593361,
          80.7651434643996,
          87.76119402985069,
          81.68631006346328,
          77.6501766784452,
          79.3518518518519,
          83.7656099903939,
          83.6081474296799,
          84.37200383509109,
          87.9439252336449,
          92.2934076137419,
          90.21636876763881,
          85.01498501498499,
          79.13223140495869,
          86.46998982706,
          84.4142259414226,
          86.3636363636364,
          93.4125269978402,
          100,
          97.03153988868269,
          101.318101933216,
          107.559572719803,
          120.553935860058,
          121.635012386457,
          125.078864353312,
          138.75,
          144.719101123596,
          135.20227111426502,
          132.57305773342802,
          126.30732099758602,
          134.198746642793,
          130.248500428449,
          131.4,
          130.536332179931,
          131.272401433692,
          143.984375,
          143.88440860215098
         ]
        }
       ],
       "layout": {
        "annotations": [
         {
          "showarrow": false,
          "text": "Alfonsín",
          "x": 1987.25,
          "y": 140
         },
         {
          "showarrow": false,
          "text": "Menemismo",
          "x": 1994,
          "y": 150
         },
         {
          "showarrow": false,
          "text": "Crisis",
          "x": 2001,
          "y": 160
         },
         {
          "showarrow": false,
          "text": "Kircherismo I",
          "x": 2005,
          "y": 160
         },
         {
          "showarrow": false,
          "text": "Kircherismo II",
          "x": 2009,
          "y": 185
         },
         {
          "showarrow": false,
          "text": "Kircherismo III",
          "x": 2013,
          "y": 160
         },
         {
          "showarrow": false,
          "text": "Macrismo",
          "x": 2017,
          "y": 165
         },
         {
          "showarrow": false,
          "text": "Alberto F.",
          "x": 2021,
          "y": 135
         },
         {
          "font": {
           "size": 12
          },
          "showarrow": false,
          "text": "Fuente: INDEC",
          "x": 0.25,
          "xanchor": "right",
          "xref": "paper",
          "xshift": 0,
          "y": -0.15,
          "yanchor": "auto",
          "yref": "paper",
          "yshift": 0
         }
        ],
        "font": {
         "family": "Georgia"
        },
        "height": 600,
        "legend": {
         "orientation": "h",
         "x": 0.01,
         "xanchor": "left",
         "y": 1.1,
         "yanchor": "top"
        },
        "separators": ",.",
        "shapes": [
         {
          "line": {
           "color": "Black",
           "dash": "dash",
           "width": 1
          },
          "type": "line",
          "x0": 1989,
          "x1": 1989,
          "xref": "x",
          "y0": 0,
          "y1": 1,
          "yref": "y domain"
         },
         {
          "line": {
           "color": "Black",
           "dash": "dash",
           "width": 1
          },
          "type": "line",
          "x0": 1999,
          "x1": 1999,
          "xref": "x",
          "y0": 0,
          "y1": 1,
          "yref": "y domain"
         },
         {
          "line": {
           "color": "Black",
           "dash": "dash",
           "width": 1
          },
          "type": "line",
          "x0": 2003,
          "x1": 2003,
          "xref": "x",
          "y0": 0,
          "y1": 1,
          "yref": "y domain"
         },
         {
          "line": {
           "color": "Black",
           "dash": "dash",
           "width": 1
          },
          "type": "line",
          "x0": 2007,
          "x1": 2007,
          "xref": "x",
          "y0": 0,
          "y1": 1,
          "yref": "y domain"
         },
         {
          "line": {
           "color": "Black",
           "dash": "dash",
           "width": 1
          },
          "type": "line",
          "x0": 2011,
          "x1": 2011,
          "xref": "x",
          "y0": 0,
          "y1": 1,
          "yref": "y domain"
         },
         {
          "line": {
           "color": "Black",
           "dash": "dash",
           "width": 1
          },
          "type": "line",
          "x0": 2015,
          "x1": 2015,
          "xref": "x",
          "y0": 0,
          "y1": 1,
          "yref": "y domain"
         },
         {
          "line": {
           "color": "Black",
           "dash": "dash",
           "width": 1
          },
          "type": "line",
          "x0": 2019,
          "x1": 2019,
          "xref": "x",
          "y0": 0,
          "y1": 1,
          "yref": "y domain"
         }
        ],
        "template": {
         "data": {
          "scatter": [
           {
            "type": "scatter"
           }
          ]
         }
        },
        "title": {
         "text": "Los vaivenes del contexto internacional"
        },
        "width": 1000,
        "xaxis": {
         "range": [
          1985.5,
          2022.5
         ],
         "showgrid": true,
         "tickmode": "linear"
        },
        "yaxis": {
         "title": {
          "text": "índices. Base 2004 = 100"
         }
        }
       }
      }
     },
     "metadata": {},
     "output_type": "display_data"
    }
   ],
   "source": [
    "def plot_serie_indices_precios_anuales():\n",
    "    indices_anuales = lectura_indices_anuales()\n",
    "    fig = go.Figure()\n",
    "    # for columna in indices_anuales.columns:\n",
    "    fig.add_trace(go.Scatter( name = \"Índice de precios de las expos\", x=indices_anuales.index, y=indices_anuales[\"Índice de precios de las expos\"], mode = \"lines+markers\"))\n",
    "    fig.add_trace(go.Scatter( name = \"Índice de precios de las impos\", x=indices_anuales.index, y=indices_anuales[\"pm\"], mode = \"lines+markers\"))\n",
    "    fig.add_trace(go.Scatter( name = \"Índice de los términos del intercambio\", x=indices_anuales.index, y=indices_anuales[\"tot\"], mode = \"lines+markers\"))\n",
    "    #Propiedades\n",
    "    fig.update_xaxes(showgrid=True)\n",
    "    fig.update_yaxes(title_text=\"índices. Base 2004 = 100\")\n",
    "    fig.update_layout(separators=\",.\", font_family=\"Georgia\", \n",
    "    #  margin ={'t': 0},\n",
    "    height=600, width=1000,\n",
    "    xaxis_range = [1985.5,2022.5],\n",
    "    xaxis = dict(tickmode = \"linear\"),\n",
    "    template = 'none',\n",
    "    title_text=\"Los vaivenes del contexto internacional\",\n",
    "    legend = dict(yanchor=\"top\",y=1.1, xanchor=\"left\",x=0.01, orientation = \"h\")\n",
    "    )\n",
    "\n",
    "    #Sequías\n",
    "    # fig.add_annotation(x=1989, y=30.7, text=\"Sequia\", yshift=5, ax=-20,showarrow=True, arrowhead=1)\n",
    "    # fig.add_annotation(x=1996, y=69.3, align=\"left\", text=\"Sequia\", ax=0 , ay=25, yshift=-5, showarrow=True, arrowhead=1)\n",
    "    # fig.add_annotation(x=2009, y=109.3, align=\"left\", text=\"Sequia y crisis financiera global\", ax=0 , ay=30, yshift=-5, showarrow=True, arrowhead=1)\n",
    "    # fig.add_annotation(x=2018, y=111.2, align=\"left\", text=\"Sequia\", ax=0 , ay=30, yshift=-5, showarrow=True, arrowhead=1)\n",
    "    # fig.add_annotation(x=2020, y=108.4, align=\"left\", text=\"Covid-19\", ax=0 , ay=30, yshift=-5, showarrow=True, arrowhead=1)\n",
    "    #Presidencias\n",
    "    fig.add_vline(x=1989, line_width=1, line_dash=\"dash\", line_color=\"Black\")\n",
    "    fig.add_vline(x=1999, line_width=1, line_dash=\"dash\", line_color=\"Black\")\n",
    "    fig.add_vline(x=2003, line_width=1, line_dash=\"dash\", line_color=\"Black\")\n",
    "    fig.add_vline(x=2007, line_width=1, line_dash=\"dash\", line_color=\"Black\")\n",
    "    fig.add_vline(x=2011, line_width=1, line_dash=\"dash\", line_color=\"Black\")\n",
    "    fig.add_vline(x=2015, line_width=1, line_dash=\"dash\", line_color=\"Black\")\n",
    "    fig.add_vline(x=2019, line_width=1, line_dash=\"dash\", line_color=\"Black\")\n",
    "    fig.add_annotation(text=\"Alfonsín\", x=1987.25, y=140, showarrow=False)\n",
    "    fig.add_annotation(text=\"Menemismo\", x=1994, y=150, showarrow=False)\n",
    "    fig.add_annotation(text=\"Crisis\", x=2001, y=160, showarrow=False)\n",
    "    fig.add_annotation(text=\"Kircherismo I\", x=2005, y=160, showarrow=False)\n",
    "    fig.add_annotation(text=\"Kircherismo II\", x=2009, y=185, showarrow=False)\n",
    "    fig.add_annotation(text=\"Kircherismo III\", x=2013, y=160, showarrow=False)\n",
    "    fig.add_annotation(text=\"Macrismo\", x=2017, y=165, showarrow=False)\n",
    "    fig.add_annotation(text=\"Alberto F.\", x=2021, y=135, showarrow=False)\n",
    "\n",
    "    #Nota al pie\n",
    "    note = 'Fuente: INDEC'\n",
    "    fig.add_annotation(showarrow=False, text=note,font=dict(size=12), xref='paper',x=0.25,yref='paper', y=-0.15, \n",
    "                            xanchor='right', yanchor='auto', xshift=0, yshift=0,)\n",
    "    return fig\n",
    "\n",
    "plot_serie_indices_precios_anuales()"
   ]
  },
  {
   "cell_type": "code",
   "execution_count": null,
   "metadata": {},
   "outputs": [],
   "source": [
    "plot_serie_indices_anuales().write_html(\"../output/serie historica.html\")"
   ]
  },
  {
   "cell_type": "code",
   "execution_count": null,
   "metadata": {},
   "outputs": [],
   "source": [
    "#Importar datos descargados \n",
    "columnas_rubro=['anio','ngexpo_v','ngexpo_p','ngexpo_q','d1',\n",
    "'pp_v','pp_p','pp_q','d2',\n",
    "'moa_v','moa_p','moa_q','d3',\n",
    "'moi_v','moi_p','moi_q','d4',\n",
    "'cye_v','cye_p','cye_q']\n",
    "\n",
    "columnas_uso=['anio','ngimpo_v','ngimpo_p','ngimpo_q','d1',\n",
    "'bk_v','bk_p','bk_q','d2',\n",
    "'bi_v','bi_p','bi_q','d3',\n",
    "'cyl_v','cyl_p','cyl_q','d4',\n",
    "'pya_v','pya_p','pya_q','d5',\n",
    "'bc_v','bc_p','bc_q','d6',\n",
    "'veh_v','veh_p','veh_q']\n",
    "\n",
    "df_anual_rubro_indices=pd.read_excel('../downloads/indicesexpgr_04.xls', names=columnas_rubro, header=4, skipfooter=6)\n",
    "df_anual_rubro_indices = df_anual_rubro_indices[df_anual_rubro_indices.columns.drop(list(df_anual_rubro_indices.filter(regex='d')))]\n",
    "df_anual_rubro_indices.anio=df_anual_rubro_indices.anio.apply(lambda x: x.replace('*',''))\n",
    "\n",
    "df_anual_uso_indices=pd.read_excel('../downloads/indicesimpue_04.xls',names=columnas_uso,header=4,skipfooter=6)\n",
    "df_anual_uso_indices = df_anual_uso_indices[df_anual_uso_indices.columns.drop(list(df_anual_uso_indices.filter(regex='d')))]\n",
    "df_anual_uso_indices.anio=df_anual_uso_indices.anio.apply(lambda x: x.replace('*',''))\n",
    "\n",
    "columnas_rubro.insert(1,'mes')\n",
    "df_mensual_rubro_indices=pd.read_excel('../downloads/serie_mensual_indices_expo.xls', names=columnas_rubro, header=4, skipfooter=6)\n",
    "df_mensual_rubro_indices = df_mensual_rubro_indices[df_mensual_rubro_indices.columns.drop(list(df_mensual_rubro_indices.filter(regex='d')))]\n",
    "df_mensual_rubro_indices.anio.fillna(method='ffill',inplace=True)\n",
    "df_mensual_rubro_indices.anio=df_mensual_rubro_indices.anio.apply(lambda x: x.replace('*',''))\n",
    "\n",
    "columnas_uso.insert(1,'mes')\n",
    "df_mensual_uso_indices=pd.read_excel('../downloads/serie_mensual_indices_impo_ue.xls',names=columnas_uso,header=4,skipfooter=6)\n",
    "df_mensual_uso_indices = df_mensual_uso_indices[df_mensual_uso_indices.columns.drop(list(df_mensual_uso_indices.filter(regex='d')))]\n",
    "df_mensual_uso_indices.anio.fillna(method='ffill',inplace=True)\n",
    "df_mensual_uso_indices.anio=df_mensual_uso_indices.anio.apply(lambda x: x.replace('*',''))"
   ]
  },
  {
   "cell_type": "code",
   "execution_count": null,
   "metadata": {},
   "outputs": [],
   "source": [
    "df_anual_indices=pd.merge(left=df_anual_rubro_indices,right=df_anual_uso_indices, how='left', on='anio')\n",
    "df_anual_indices['iti']=df_anual_indices.ngexpo_p/df_anual_indices.ngimpo_p*100\n",
    "df_mensual_indices=pd.merge(left=df_mensual_rubro_indices,right=df_mensual_uso_indices,how='left',on=['anio','mes'])\n",
    "df_mensual_indices['iti']=df_mensual_indices.ngexpo_p/df_mensual_indices.ngimpo_p*100"
   ]
  },
  {
   "cell_type": "code",
   "execution_count": null,
   "metadata": {},
   "outputs": [
    {
     "name": "stderr",
     "output_type": "stream",
     "text": [
      "C:\\Users\\mbasualdo\\AppData\\Local\\Temp\\ipykernel_3648\\4039606152.py:5: UserWarning:\n",
      "\n",
      "Could not infer format, so each element will be parsed individually, falling back to `dateutil`. To ensure parsing is consistent and as-expected, please specify a format.\n",
      "\n"
     ]
    }
   ],
   "source": [
    "dict_meses=dict(zip(df_mensual_indices.mes.unique(),range(1,13)))\n",
    "def meses_num(mes):\n",
    "    return dict_meses[mes]\n",
    "df_mensual_indices['fecha']=df_mensual_indices.mes.apply(meses_num).astype(str)+'-'+df_mensual_indices['anio'].astype(str)\n",
    "df_mensual_indices['fecha']=pd.to_datetime(df_mensual_indices[\"fecha\"]).dt.strftime('%m-%Y')"
   ]
  },
  {
   "cell_type": "code",
   "execution_count": null,
   "metadata": {},
   "outputs": [],
   "source": [
    "df_mensual_indices.to_csv('../output/indices_mensuales.csv')\n",
    "df_anual_indices.to_csv(\"../output/indices_anuales.csv\")"
   ]
  },
  {
   "cell_type": "code",
   "execution_count": null,
   "metadata": {},
   "outputs": [
    {
     "name": "stderr",
     "output_type": "stream",
     "text": [
      "C:\\Users\\mbasualdo\\AppData\\Local\\Temp\\ipykernel_3648\\2169843688.py:2: UserWarning:\n",
      "\n",
      "Could not infer format, so each element will be parsed individually, falling back to `dateutil`. To ensure parsing is consistent and as-expected, please specify a format.\n",
      "\n"
     ]
    },
    {
     "data": {
      "text/plain": [
       "Index(['anio', 'mes', 'fecha', 'ngexpo_v', 'ngexpo_p', 'ngexpo_q', 'pp_v',\n",
       "       'pp_p', 'pp_q', 'moa_v', 'moa_p', 'moa_q', 'moi_v', 'moi_p', 'moi_q',\n",
       "       'cye_v', 'cye_p', 'cye_q', 'var_q_pp', 'var_q_moa', 'var_p_pp',\n",
       "       'var_p_moa', 'var_p_moi', 'var_p_cye', 'var_q_moi', 'var_q_cye'],\n",
       "      dtype='object')"
      ]
     },
     "execution_count": 23,
     "metadata": {},
     "output_type": "execute_result"
    }
   ],
   "source": [
    "df_mensual_rubro_indices['fecha']=df_mensual_rubro_indices.mes.apply(meses_num).astype(str)+'-'+df_mensual_rubro_indices['anio'].astype(str)\n",
    "df_mensual_rubro_indices['fecha']=pd.to_datetime(df_mensual_rubro_indices[\"fecha\"]).dt.strftime('%m-%Y')\n",
    "df_mensual_rubro_indices.insert(2,'fecha',df_mensual_rubro_indices.pop('fecha'))\n",
    "df_mensual_rubro_indices['var_q_pp']=df_mensual_rubro_indices.pp_q.pct_change(12)*100\n",
    "df_mensual_rubro_indices['var_q_moa']=df_mensual_rubro_indices.moa_q.pct_change(12)*100\n",
    "df_mensual_rubro_indices['var_p_pp']=df_mensual_rubro_indices.pp_p.pct_change(12)*100\n",
    "df_mensual_rubro_indices['var_p_moa']=df_mensual_rubro_indices.moa_p.pct_change(12)*100\n",
    "df_mensual_rubro_indices['var_p_moi']=df_mensual_rubro_indices.pp_p.pct_change(12)*100\n",
    "df_mensual_rubro_indices['var_p_cye']=df_mensual_rubro_indices.moa_p.pct_change(12)*100\n",
    "df_mensual_rubro_indices['var_q_moi']=df_mensual_rubro_indices.pp_q.pct_change(12)*100\n",
    "df_mensual_rubro_indices['var_q_cye']=df_mensual_rubro_indices.moa_q.pct_change(12)*100\n",
    "df_mensual_rubro_indices.columns"
   ]
  },
  {
   "cell_type": "code",
   "execution_count": null,
   "metadata": {},
   "outputs": [
    {
     "data": {
      "application/vnd.plotly.v1+json": {
       "config": {
        "plotlyServerURL": "https://plot.ly"
       },
       "data": [
        {
         "marker": {
          "symbol": 0
         },
         "mode": "lines+markers",
         "name": "Variac cantid prod primarios",
         "type": "scatter",
         "x": [
          "01-2022",
          "02-2022",
          "03-2022",
          "04-2022",
          "05-2022",
          "06-2022",
          "07-2022",
          "08-2022",
          "09-2022",
          "10-2022",
          "11-2022",
          "12-2022",
          "01-2023",
          "02-2023"
         ],
         "y": [
          40.32199495463465,
          37.1783592533677,
          11.174574692132232,
          6.704723197333773,
          -4.576399434086231,
          -12.701276933467875,
          -8.357678298560856,
          -32.93874397416271,
          -16.72626276965571,
          17.37434589593874,
          7.315602949069744,
          -30.6142537094628,
          -44.70252069079432,
          -34.989461556712186
         ]
        },
        {
         "marker": {
          "symbol": 1
         },
         "mode": "lines+markers",
         "name": "Variac cantid manuf de origen agropecuario",
         "type": "scatter",
         "x": [
          "01-2022",
          "02-2022",
          "03-2022",
          "04-2022",
          "05-2022",
          "06-2022",
          "07-2022",
          "08-2022",
          "09-2022",
          "10-2022",
          "11-2022",
          "12-2022",
          "01-2023",
          "02-2023"
         ],
         "y": [
          -33.992189397822415,
          -6.823930623088592,
          -6.604801543743843,
          -7.356859593246212,
          2.6659313386101724,
          3.010124571863093,
          -6.629131878443262,
          -13.083336399563194,
          -23.000587006640117,
          -9.681046195184251,
          5.008278304249014,
          -2.0446571709926253,
          -0.597815494434828,
          -15.677216028620599
         ]
        },
        {
         "marker": {
          "symbol": 2
         },
         "mode": "lines+markers",
         "name": "Variac precios prod primarios",
         "type": "scatter",
         "x": [
          "01-2022",
          "02-2022",
          "03-2022",
          "04-2022",
          "05-2022",
          "06-2022",
          "07-2022",
          "08-2022",
          "09-2022",
          "10-2022",
          "11-2022",
          "12-2022",
          "01-2023",
          "02-2023"
         ],
         "y": [
          24.89229136169333,
          23.253307266074618,
          21.3999025237785,
          18.07451143320651,
          12.87702256843486,
          15.276442832599834,
          12.425228454275427,
          7.359938628161755,
          8.887998088108361,
          9.40642288916289,
          7.03989814613899,
          5.568909501140817,
          3.921634307080324,
          2.0696209924132125
         ]
        },
        {
         "marker": {
          "symbol": 3
         },
         "mode": "lines+markers",
         "name": "Variac precios manuf de origen agropecuario",
         "type": "scatter",
         "x": [
          "01-2022",
          "02-2022",
          "03-2022",
          "04-2022",
          "05-2022",
          "06-2022",
          "07-2022",
          "08-2022",
          "09-2022",
          "10-2022",
          "11-2022",
          "12-2022",
          "01-2023",
          "02-2023"
         ],
         "y": [
          14.118242317486928,
          11.538748898175388,
          18.07980022789848,
          24.210961313786548,
          25.430232722210143,
          21.243429188349584,
          19.73372549312884,
          19.341599752184614,
          14.944911524931182,
          10.712993537063964,
          9.724340352327431,
          6.54130184865116,
          1.0039676477172854,
          -1.4204757752891317
         ]
        }
       ],
       "layout": {
        "annotations": [
         {
          "font": {
           "size": 12
          },
          "showarrow": false,
          "text": "Fuente: INDEC",
          "x": 0.15,
          "xanchor": "right",
          "xref": "paper",
          "xshift": 0,
          "y": -0.18,
          "yanchor": "auto",
          "yref": "paper",
          "yshift": 0
         }
        ],
        "font": {
         "family": "Georgia"
        },
        "height": 600,
        "legend": {
         "x": 0.7,
         "xanchor": "left",
         "y": 0.99,
         "yanchor": "top"
        },
        "separators": ",.",
        "template": {
         "data": {
          "scatter": [
           {
            "type": "scatter"
           }
          ]
         }
        },
        "title": {
         "text": "Inicio de la pulseada política: exportaciones estancadas <br> <sup> Variación % interanual"
        },
        "width": 1000,
        "xaxis": {
         "showgrid": true,
         "tickmode": "linear"
        },
        "yaxis": {
         "title": {
          "text": "Variacion interanual índices. Base 2004 = 100"
         }
        }
       }
      }
     },
     "metadata": {},
     "output_type": "display_data"
    }
   ],
   "source": [
    "df_mensual_rubro_indices_filtrado=df_mensual_rubro_indices[df_mensual_rubro_indices.anio>'2021']\n",
    "x = df_mensual_rubro_indices_filtrado[\"fecha\"]\n",
    "#Datos\n",
    "IIX_grafico = go.Figure()\n",
    "\n",
    "IIX_grafico.add_trace(go.Scatter( name = \"Variac cantid prod primarios\", x=x, \n",
    "y=df_mensual_rubro_indices_filtrado[\"var_q_pp\"], mode = \"lines+markers\", marker_symbol=0))\n",
    "IIX_grafico.add_trace(go.Scatter( name = \"Variac cantid manuf de origen agropecuario\", x=x, \n",
    "y=df_mensual_rubro_indices_filtrado[\"var_q_moa\"], mode = \"lines+markers\", marker_symbol=1))\n",
    "IIX_grafico.add_trace(go.Scatter( name = \"Variac precios prod primarios\", x=x, \n",
    "y=df_mensual_rubro_indices_filtrado[\"var_p_pp\"], mode = \"lines+markers\", marker_symbol=2))\n",
    "IIX_grafico.add_trace(go.Scatter( name = \"Variac precios manuf de origen agropecuario\", x=x, \n",
    "y=df_mensual_rubro_indices_filtrado[\"var_p_moa\"], mode = \"lines+markers\", marker_symbol=3))\n",
    "\n",
    "#Propiedades\n",
    "IIX_grafico.update_xaxes(showgrid=True)\n",
    "IIX_grafico.update_yaxes(title_text=\"Variacion interanual índices. Base 2004 = 100\")\n",
    "IIX_grafico.update_layout(separators=\",.\", font_family=\"Georgia\",  \n",
    "# margin ={'t': 0},\n",
    "height=600, width=1000,\n",
    "# xaxis_range = [1989.5,2021.5],\n",
    "xaxis = dict(tickmode = \"linear\"),\n",
    "template = 'none',\n",
    "title_text=\"Inicio de la pulseada política: exportaciones estancadas <br> <sup> Variación % interanual\",\n",
    "legend = dict(yanchor=\"top\",y=0.99, xanchor=\"left\",x=0.7)\n",
    ")\n",
    "\n",
    "#Nota al pie\n",
    "note = 'Fuente: INDEC'\n",
    "IIX_grafico.add_annotation(showarrow=False, text=note,font=dict(size=12), xref='paper',x=0.15,yref='paper', y=-0.18, \n",
    "                           xanchor='right', yanchor='auto', xshift=0, yshift=0,)"
   ]
  },
  {
   "cell_type": "code",
   "execution_count": null,
   "metadata": {},
   "outputs": [
    {
     "data": {
      "application/vnd.plotly.v1+json": {
       "config": {
        "plotlyServerURL": "https://plot.ly"
       },
       "data": [
        {
         "legendgroup": "Variación Cantidades",
         "marker": {
          "color": "orange",
          "symbol": 0
         },
         "mode": "lines+markers",
         "name": "Variación Cantidades",
         "type": "scatter",
         "x": [
          "01-2022",
          "02-2022",
          "03-2022",
          "04-2022",
          "05-2022",
          "06-2022",
          "07-2022",
          "08-2022",
          "09-2022",
          "10-2022",
          "11-2022",
          "12-2022",
          "01-2023",
          "02-2023"
         ],
         "xaxis": "x",
         "y": [
          40.32199495463465,
          37.1783592533677,
          11.174574692132232,
          6.704723197333773,
          -4.576399434086231,
          -12.701276933467875,
          -8.357678298560856,
          -32.93874397416271,
          -16.72626276965571,
          17.37434589593874,
          7.315602949069744,
          -30.6142537094628,
          -44.70252069079432,
          -34.989461556712186
         ],
         "yaxis": "y"
        },
        {
         "legendgroup": "Variación Precio",
         "marker": {
          "color": "purple",
          "symbol": 1
         },
         "mode": "lines+markers",
         "name": "Variación Precio",
         "type": "scatter",
         "x": [
          "01-2022",
          "02-2022",
          "03-2022",
          "04-2022",
          "05-2022",
          "06-2022",
          "07-2022",
          "08-2022",
          "09-2022",
          "10-2022",
          "11-2022",
          "12-2022",
          "01-2023",
          "02-2023"
         ],
         "xaxis": "x",
         "y": [
          24.89229136169333,
          23.253307266074618,
          21.3999025237785,
          18.07451143320651,
          12.87702256843486,
          15.276442832599834,
          12.425228454275427,
          7.359938628161755,
          8.887998088108361,
          9.40642288916289,
          7.03989814613899,
          5.568909501140817,
          3.921634307080324,
          2.0696209924132125
         ],
         "yaxis": "y"
        },
        {
         "legendgroup": "Variación Cantidades",
         "marker": {
          "color": "orange",
          "symbol": 0
         },
         "mode": "lines+markers",
         "name": "Variación Cantidades moa",
         "showlegend": false,
         "type": "scatter",
         "x": [
          "01-2022",
          "02-2022",
          "03-2022",
          "04-2022",
          "05-2022",
          "06-2022",
          "07-2022",
          "08-2022",
          "09-2022",
          "10-2022",
          "11-2022",
          "12-2022",
          "01-2023",
          "02-2023"
         ],
         "xaxis": "x2",
         "y": [
          -33.992189397822415,
          -6.823930623088592,
          -6.604801543743843,
          -7.356859593246212,
          2.6659313386101724,
          3.010124571863093,
          -6.629131878443262,
          -13.083336399563194,
          -23.000587006640117,
          -9.681046195184251,
          5.008278304249014,
          -2.0446571709926253,
          -0.597815494434828,
          -15.677216028620599
         ],
         "yaxis": "y2"
        },
        {
         "legendgroup": "Variación Precio",
         "marker": {
          "color": "purple",
          "symbol": 1
         },
         "mode": "lines+markers",
         "name": "Variación Precio moa",
         "showlegend": false,
         "type": "scatter",
         "x": [
          "01-2022",
          "02-2022",
          "03-2022",
          "04-2022",
          "05-2022",
          "06-2022",
          "07-2022",
          "08-2022",
          "09-2022",
          "10-2022",
          "11-2022",
          "12-2022",
          "01-2023",
          "02-2023"
         ],
         "xaxis": "x2",
         "y": [
          14.118242317486928,
          11.538748898175388,
          18.07980022789848,
          24.210961313786548,
          25.430232722210143,
          21.243429188349584,
          19.73372549312884,
          19.341599752184614,
          14.944911524931182,
          10.712993537063964,
          9.724340352327431,
          6.54130184865116,
          1.0039676477172854,
          -1.4204757752891317
         ],
         "yaxis": "y2"
        },
        {
         "legendgroup": "Variación Cantidades",
         "marker": {
          "color": "orange",
          "symbol": 0
         },
         "mode": "lines+markers",
         "name": "Variación Cantidades moi",
         "showlegend": false,
         "type": "scatter",
         "x": [
          "01-2022",
          "02-2022",
          "03-2022",
          "04-2022",
          "05-2022",
          "06-2022",
          "07-2022",
          "08-2022",
          "09-2022",
          "10-2022",
          "11-2022",
          "12-2022",
          "01-2023",
          "02-2023"
         ],
         "xaxis": "x3",
         "y": [
          40.32199495463465,
          37.1783592533677,
          11.174574692132232,
          6.704723197333773,
          -4.576399434086231,
          -12.701276933467875,
          -8.357678298560856,
          -32.93874397416271,
          -16.72626276965571,
          17.37434589593874,
          7.315602949069744,
          -30.6142537094628,
          -44.70252069079432,
          -34.989461556712186
         ],
         "yaxis": "y3"
        },
        {
         "legendgroup": "Variación Precio",
         "marker": {
          "color": "purple",
          "symbol": 1
         },
         "mode": "lines+markers",
         "name": "Variación Precio moi",
         "showlegend": false,
         "type": "scatter",
         "x": [
          "01-2022",
          "02-2022",
          "03-2022",
          "04-2022",
          "05-2022",
          "06-2022",
          "07-2022",
          "08-2022",
          "09-2022",
          "10-2022",
          "11-2022",
          "12-2022",
          "01-2023",
          "02-2023"
         ],
         "xaxis": "x3",
         "y": [
          24.89229136169333,
          23.253307266074618,
          21.3999025237785,
          18.07451143320651,
          12.87702256843486,
          15.276442832599834,
          12.425228454275427,
          7.359938628161755,
          8.887998088108361,
          9.40642288916289,
          7.03989814613899,
          5.568909501140817,
          3.921634307080324,
          2.0696209924132125
         ],
         "yaxis": "y3"
        },
        {
         "legendgroup": "Variación Cantidades",
         "marker": {
          "color": "orange",
          "symbol": 0
         },
         "mode": "lines+markers",
         "name": "Variación Cantidades cye",
         "showlegend": false,
         "type": "scatter",
         "x": [
          "01-2022",
          "02-2022",
          "03-2022",
          "04-2022",
          "05-2022",
          "06-2022",
          "07-2022",
          "08-2022",
          "09-2022",
          "10-2022",
          "11-2022",
          "12-2022",
          "01-2023",
          "02-2023"
         ],
         "xaxis": "x4",
         "y": [
          -33.992189397822415,
          -6.823930623088592,
          -6.604801543743843,
          -7.356859593246212,
          2.6659313386101724,
          3.010124571863093,
          -6.629131878443262,
          -13.083336399563194,
          -23.000587006640117,
          -9.681046195184251,
          5.008278304249014,
          -2.0446571709926253,
          -0.597815494434828,
          -15.677216028620599
         ],
         "yaxis": "y4"
        },
        {
         "legendgroup": "Variación Precio",
         "marker": {
          "color": "purple",
          "symbol": 1
         },
         "mode": "lines+markers",
         "name": "Variación Precio cye",
         "showlegend": false,
         "type": "scatter",
         "x": [
          "01-2022",
          "02-2022",
          "03-2022",
          "04-2022",
          "05-2022",
          "06-2022",
          "07-2022",
          "08-2022",
          "09-2022",
          "10-2022",
          "11-2022",
          "12-2022",
          "01-2023",
          "02-2023"
         ],
         "xaxis": "x4",
         "y": [
          14.118242317486928,
          11.538748898175388,
          18.07980022789848,
          24.210961313786548,
          25.430232722210143,
          21.243429188349584,
          19.73372549312884,
          19.341599752184614,
          14.944911524931182,
          10.712993537063964,
          9.724340352327431,
          6.54130184865116,
          1.0039676477172854,
          -1.4204757752891317
         ],
         "yaxis": "y4"
        }
       ],
       "layout": {
        "annotations": [
         {
          "font": {
           "size": 16
          },
          "showarrow": false,
          "text": "Productos primarios",
          "x": 0.225,
          "xanchor": "center",
          "xref": "paper",
          "y": 1,
          "yanchor": "bottom",
          "yref": "paper"
         },
         {
          "font": {
           "size": 16
          },
          "showarrow": false,
          "text": "Manufacturas de origen agropecuario",
          "x": 0.775,
          "xanchor": "center",
          "xref": "paper",
          "y": 1,
          "yanchor": "bottom",
          "yref": "paper"
         },
         {
          "font": {
           "size": 16
          },
          "showarrow": false,
          "text": "Manufacturas de origen industrial",
          "x": 0.225,
          "xanchor": "center",
          "xref": "paper",
          "y": 0.4,
          "yanchor": "bottom",
          "yref": "paper"
         },
         {
          "font": {
           "size": 16
          },
          "showarrow": false,
          "text": "Combustibles y energía",
          "x": 0.775,
          "xanchor": "center",
          "xref": "paper",
          "y": 0.4,
          "yanchor": "bottom",
          "yref": "paper"
         },
         {
          "font": {
           "size": 12
          },
          "showarrow": false,
          "text": "Fuente: INDEC",
          "x": 0.1,
          "xanchor": "right",
          "xref": "paper",
          "xshift": 0,
          "y": -0.125,
          "yanchor": "auto",
          "yref": "paper",
          "yshift": 0
         },
         {
          "font": {
           "family": "arial",
           "size": 16
          },
          "opacity": 0.4,
          "showarrow": false,
          "text": "@MartinBasualdo0",
          "x": 0.5,
          "xref": "paper",
          "y": 0.5,
          "yref": "paper"
         }
        ],
        "font": {
         "family": "Georgia",
         "size": 12
        },
        "height": 700,
        "legend": {
         "orientation": "h",
         "x": 0.3,
         "xanchor": "left",
         "y": -0.15,
         "yanchor": "bottom"
        },
        "separators": ",.",
        "template": {
         "data": {
          "scatter": [
           {
            "type": "scatter"
           }
          ]
         }
        },
        "title": {
         "font": {
          "size": 20
         },
         "pad": {
          "b": 500
         },
         "text": "Inicio de la pulseada política: exportaciones estancadas <br> <sup> Variación % interanual, índices 2004=100 </sup>"
        },
        "width": 1000,
        "xaxis": {
         "anchor": "y",
         "domain": [
          0,
          0.45
         ],
         "type": "category"
        },
        "xaxis2": {
         "anchor": "y2",
         "domain": [
          0.55,
          1
         ]
        },
        "xaxis3": {
         "anchor": "y3",
         "domain": [
          0,
          0.45
         ]
        },
        "xaxis4": {
         "anchor": "y4",
         "domain": [
          0.55,
          1
         ]
        },
        "yaxis": {
         "anchor": "x",
         "domain": [
          0.6000000000000001,
          1
         ],
         "tickformat": ","
        },
        "yaxis2": {
         "anchor": "x2",
         "domain": [
          0.6000000000000001,
          1
         ],
         "tickformat": ","
        },
        "yaxis3": {
         "anchor": "x3",
         "domain": [
          0,
          0.4
         ],
         "tickformat": ","
        },
        "yaxis4": {
         "anchor": "x4",
         "domain": [
          0,
          0.4
         ],
         "tickformat": ","
        }
       }
      }
     },
     "metadata": {},
     "output_type": "display_data"
    }
   ],
   "source": [
    "multiplot_indices = make_subplots(2, 2, vertical_spacing=0.2,\n",
    "subplot_titles= ['Productos primarios','Manufacturas de origen agropecuario', 'Manufacturas de origen industrial', 'Combustibles y energía'])\n",
    "w=[1,1,2,2]\n",
    "z=[1,2,1,2]\n",
    "x=df_mensual_rubro_indices_filtrado.fecha\n",
    "\n",
    "multiplot_indices.add_trace(go.Scatter(name='Variación Cantidades',legendgroup=\"Variación Cantidades\",x=x, y=df_mensual_rubro_indices_filtrado.var_q_pp, mode='lines+markers', marker_symbol=0, marker_color='orange'), row=1, col=1)\n",
    "multiplot_indices.add_trace(go.Scatter(name='Variación Precio',legendgroup=\"Variación Precio\",x=x, y=df_mensual_rubro_indices_filtrado.var_p_pp, mode='lines+markers', marker_symbol=1, marker_color='purple'), row=1, col=1)\n",
    "\n",
    "multiplot_indices.add_trace(go.Scatter(name='Variación Cantidades moa',legendgroup=\"Variación Cantidades\",x=x, y=df_mensual_rubro_indices_filtrado.var_q_moa, mode='lines+markers', marker_symbol=0,marker_color='orange',showlegend=False), row=1, col=2)\n",
    "multiplot_indices.add_trace(go.Scatter(name='Variación Precio moa',legendgroup=\"Variación Precio\",x=x, y=df_mensual_rubro_indices_filtrado.var_p_moa, mode='lines+markers', marker_symbol=1, marker_color='purple',showlegend=False), row=1, col=2)\n",
    "\n",
    "multiplot_indices.add_trace(go.Scatter(name='Variación Cantidades moi',legendgroup=\"Variación Cantidades\",x=x, y=df_mensual_rubro_indices_filtrado.var_q_moi, mode='lines+markers', marker_symbol=0,marker_color='orange',showlegend=False ), row=2, col=1)\n",
    "multiplot_indices.add_trace(go.Scatter(name='Variación Precio moi',legendgroup=\"Variación Precio\",x=x, y=df_mensual_rubro_indices_filtrado.var_p_moi, mode='lines+markers', marker_symbol=1, marker_color='purple',showlegend=False), row=2, col=1)\n",
    "\n",
    "multiplot_indices.add_trace(go.Scatter(name='Variación Cantidades cye',legendgroup=\"Variación Cantidades\",x=x, y=df_mensual_rubro_indices_filtrado.var_q_cye, mode='lines+markers', marker_symbol=0,marker_color='orange',showlegend=False ), row=2, col=2)\n",
    "multiplot_indices.add_trace(go.Scatter(name='Variación Precio cye',legendgroup=\"Variación Precio\",x=x, y=df_mensual_rubro_indices_filtrado.var_p_cye, mode='lines+markers', marker_symbol=1, marker_color='purple',showlegend=False), row=2, col=2)\n",
    "   \n",
    "multiplot_indices.update_layout(separators=\",.\", font_family=\"Georgia\", font_size=12,\n",
    "                              xaxis=dict(type='category'),\n",
    "                                # margin ={'b': 200},\n",
    "     height=700, width=1000, \n",
    "     # xaxis = dict(tickmode = \"linear\"),\n",
    "     template = 'none',\n",
    "     title=dict(\n",
    "         text=\"Inicio de la pulseada política: exportaciones estancadas <br> <sup> Variación % interanual, índices 2004=100 </sup>\",\n",
    "         font_size=20,\n",
    "           pad=dict(b=500)\n",
    "        ),    \n",
    "     legend=dict(yanchor=\"bottom\",xanchor=\"left\",\n",
    "     y=-.15, x=0.3, \n",
    "     orientation='h')\n",
    "     )\n",
    "multiplot_indices.update_yaxes(tickformat=',')\n",
    "note = 'Fuente: INDEC'\n",
    "multiplot_indices.add_annotation(showarrow=False, text=note,font=dict(size=12), xref='paper',x=0.1,yref='paper', y=-0.125, \n",
    "                           xanchor='right', yanchor='auto', xshift=0, yshift=0,)\n",
    "\n",
    "multiplot_indices.add_annotation(showarrow=False, text='@MartinBasualdo0', font=dict(size=16), font_family=\"arial\", opacity=0.4,\n",
    "    xref='paper', yref='paper', x=0.5, y=0.5)"
   ]
  },
  {
   "cell_type": "code",
   "execution_count": null,
   "metadata": {},
   "outputs": [],
   "source": [
    "multiplot_indices.write_html('../output/multiplots_indices.html')\n",
    "plot_serie_indices_anuales().write_html(\"../output/indices anuales.html\")"
   ]
  },
  {
   "cell_type": "code",
   "execution_count": null,
   "metadata": {},
   "outputs": [],
   "source": [
    "for i in glob(\"../downloads/*\", recursive = True): os.remove(i)"
   ]
  }
 ],
 "metadata": {
  "kernelspec": {
   "display_name": "base",
   "language": "python",
   "name": "python3"
  },
  "language_info": {
   "codemirror_mode": {
    "name": "ipython",
    "version": 3
   },
   "file_extension": ".py",
   "mimetype": "text/x-python",
   "name": "python",
   "nbconvert_exporter": "python",
   "pygments_lexer": "ipython3",
   "version": "3.9.16"
  },
  "orig_nbformat": 4,
  "vscode": {
   "interpreter": {
    "hash": "957668f77d739aed3606dc0cb3e6b9836150d21e7c3a979985571ea2faa3bd84"
   }
  }
 },
 "nbformat": 4,
 "nbformat_minor": 2
}

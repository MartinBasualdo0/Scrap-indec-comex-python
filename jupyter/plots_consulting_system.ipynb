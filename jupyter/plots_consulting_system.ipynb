{
 "cells": [
  {
   "cell_type": "code",
   "execution_count": 1,
   "metadata": {},
   "outputs": [],
   "source": [
    "from config_jupyter.config import set_wd\n",
    "set_wd()\n",
    "from modules.main_consulting_system import main_get_commerce_df\n",
    "from modules.plots import bar_plot"
   ]
  },
  {
   "cell_type": "code",
   "execution_count": 2,
   "metadata": {},
   "outputs": [],
   "source": [
    "commerce=\"imports\"\n",
    "frequency=\"Y\" \n",
    "year_from=2019"
   ]
  },
  {
   "cell_type": "code",
   "execution_count": 3,
   "metadata": {},
   "outputs": [
    {
     "name": "stdout",
     "output_type": "stream",
     "text": [
      "File downloaded successfully. imports_2019_Y.zip\n",
      "File downloaded successfully. imports_2020_Y.zip\n",
      "File downloaded successfully. imports_2021_Y.zip\n",
      "File downloaded successfully. imports_2022_Y.zip\n",
      "File downloaded successfully. imports_2023_Y.zip\n",
      "File downloaded successfully. imports_2024_Y.zip\n"
     ]
    }
   ],
   "source": [
    "df = main_get_commerce_df(\n",
    "    commerce=commerce,\n",
    "    frequency=frequency, \n",
    "    year_from=2019,\n",
    "    drop_all_files=True,\n",
    "    export_raw_concat_df=False\n",
    ")"
   ]
  },
  {
   "cell_type": "code",
   "execution_count": 5,
   "metadata": {},
   "outputs": [
    {
     "name": "stderr",
     "output_type": "stream",
     "text": [
      "c:\\Users\\marti\\OneDrive\\Documentos\\Trabajos Indec\\Scrap-indec-comex-python\\modules\\plots.py:21: FutureWarning:\n",
      "\n",
      "'Y' is deprecated and will be removed in a future version, please use 'YE' instead.\n",
      "\n"
     ]
    },
    {
     "data": {
      "application/vnd.plotly.v1+json": {
       "config": {
        "plotlyServerURL": "https://plot.ly"
       },
       "data": [
        {
         "name": "Argentina",
         "type": "bar",
         "x": [
          "2019",
          "2020",
          "2021",
          "2022",
          "2023"
         ],
         "y": [
          null,
          null,
          689.12,
          null,
          null
         ]
        },
        {
         "name": "Bolivia",
         "type": "bar",
         "x": [
          "2019",
          "2020",
          "2021",
          "2022",
          "2023"
         ],
         "y": [
          null,
          null,
          28068.755,
          495127.148,
          395922.673
         ]
        },
        {
         "name": "Brasil",
         "type": "bar",
         "x": [
          "2019",
          "2020",
          "2021",
          "2022",
          "2023"
         ],
         "y": [
          384534.528,
          383602.755,
          218140.663,
          299798.271,
          4081109.856
         ]
        },
        {
         "name": "Estados Unidos",
         "type": "bar",
         "x": [
          "2019",
          "2020",
          "2021",
          "2022",
          "2023"
         ],
         "y": [
          712542.893,
          null,
          null,
          null,
          null
         ]
        },
        {
         "name": "Paraguay",
         "type": "bar",
         "x": [
          "2019",
          "2020",
          "2021",
          "2022",
          "2023"
         ],
         "y": [
          3448906.803,
          4913057.979,
          4601765.052,
          1739713.681,
          5829119.664
         ]
        },
        {
         "name": "Uruguay",
         "type": "bar",
         "x": [
          "2019",
          "2020",
          "2021",
          "2022",
          "2023"
         ],
         "y": [
          null,
          18257.984,
          16050.905,
          774817.365,
          61002.215
         ]
        }
       ],
       "layout": {
        "annotations": [
         {
          "font": {
           "size": 12
          },
          "showarrow": false,
          "text": "Fuente: @MartinBasualdo0 en base a INDEC",
          "x": 0.3,
          "xanchor": "right",
          "xref": "paper",
          "xshift": 0,
          "y": -0.1,
          "yanchor": "auto",
          "yref": "paper",
          "yshift": 0
         }
        ],
        "barmode": "relative",
        "height": 600,
        "legend": {
         "orientation": "v",
         "xanchor": "left",
         "y": 0.95,
         "yanchor": "top"
        },
        "separators": ",.",
        "template": {
         "data": {
          "scatter": [
           {
            "type": "scatter"
           }
          ]
         }
        },
        "title": {
         "text": "Peso neto importado de: <br>\"Porotos de soja excluidos p/siembra\"<br><sup>En toneladas</sup>"
        },
        "uniformtext": {
         "minsize": 10,
         "mode": "hide"
        },
        "width": 1000,
        "xaxis": {
         "title": {
          "text": ""
         },
         "type": "category"
        },
        "yaxis": {
         "tickformat": ",",
         "title": {
          "text": "Toneladas"
         }
        }
       }
      }
     },
     "metadata": {},
     "output_type": "display_data"
    }
   ],
   "source": [
    "fig = bar_plot(df, commerce, 2019, frequency, variable=\"netWeight\", ncm_code=\"12019000\", include_countries=True)\n",
    "fig.update_layout(legend = dict(yanchor=\"top\", xanchor=\"left\", orientation=\"v\",))"
   ]
  }
 ],
 "metadata": {
  "kernelspec": {
   "display_name": "indec",
   "language": "python",
   "name": "python3"
  },
  "language_info": {
   "codemirror_mode": {
    "name": "ipython",
    "version": 3
   },
   "file_extension": ".py",
   "mimetype": "text/x-python",
   "name": "python",
   "nbconvert_exporter": "python",
   "pygments_lexer": "ipython3",
   "version": "3.10.9"
  },
  "orig_nbformat": 4,
  "vscode": {
   "interpreter": {
    "hash": "8e76e384a9df139c1746ba138f5ce3f6d0babc035eebae6bb58adb8dce6b6867"
   }
  }
 },
 "nbformat": 4,
 "nbformat_minor": 2
}

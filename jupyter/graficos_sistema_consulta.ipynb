{
 "cells": [
  {
   "cell_type": "code",
   "execution_count": 1,
   "metadata": {},
   "outputs": [],
   "source": [
    "from config_jupyter.config import set_wd\n",
    "set_wd()\n",
    "from modules.main_consulting_system import main_get_commerce_df\n",
    "from modules.plots import bar_plot"
   ]
  },
  {
   "cell_type": "code",
   "execution_count": 2,
   "metadata": {},
   "outputs": [],
   "source": [
    "commerce=\"exports\"\n",
    "frequency=\"Y\" \n",
    "year_from=2019"
   ]
  },
  {
   "cell_type": "code",
   "execution_count": 3,
   "metadata": {},
   "outputs": [
    {
     "name": "stdout",
     "output_type": "stream",
     "text": [
      "File downloaded successfully. exports_2019_Y.zip\n",
      "File downloaded successfully. exports_2020_Y.zip\n",
      "File downloaded successfully. exports_2021_Y.zip\n",
      "File downloaded successfully. exports_2022_Y.zip\n",
      "File downloaded successfully. exports_2023_Y.zip\n",
      "File downloaded successfully. exports_2024_Y.zip\n"
     ]
    }
   ],
   "source": [
    "df = main_get_commerce_df(\n",
    "    commerce=commerce,\n",
    "    frequency=frequency, \n",
    "    year_from=2019,\n",
    "    drop_all_files=True,\n",
    "    export_raw_concat_df=False\n",
    ")"
   ]
  },
  {
   "cell_type": "code",
   "execution_count": 4,
   "metadata": {},
   "outputs": [
    {
     "data": {
      "application/vnd.plotly.v1+json": {
       "config": {
        "plotlyServerURL": "https://plot.ly"
       },
       "data": [
        {
         "type": "bar",
         "x": [
          "2019",
          "2020",
          "2021",
          "2022",
          "2023"
         ],
         "y": [
          10219225.624,
          6796325.84,
          5370777.791,
          5505944.3258,
          1859488.131
         ]
        }
       ],
       "layout": {
        "annotations": [
         {
          "font": {
           "size": 12
          },
          "showarrow": false,
          "text": "Fuente: @MartinBasualdo0 en base a INDEC",
          "x": 0.3,
          "xanchor": "right",
          "xref": "paper",
          "xshift": 0,
          "y": -0.1,
          "yanchor": "auto",
          "yref": "paper",
          "yshift": 0
         }
        ],
        "barmode": "relative",
        "height": 600,
        "legend": {
         "orientation": "v",
         "xanchor": "left",
         "y": 0.95,
         "yanchor": "top"
        },
        "separators": ",.",
        "template": {
         "data": {
          "scatter": [
           {
            "type": "scatter"
           }
          ]
         }
        },
        "title": {
         "text": "Peso neto exportado de: <br>\"Porotos de soja excluidos p/siembra\"<br><sup>En toneladas</sup>"
        },
        "uniformtext": {
         "minsize": 10,
         "mode": "hide"
        },
        "width": 1000,
        "xaxis": {
         "title": {
          "text": ""
         },
         "type": "category"
        },
        "yaxis": {
         "tickformat": ",",
         "title": {
          "text": "Toneladas"
         }
        }
       }
      }
     },
     "metadata": {},
     "output_type": "display_data"
    }
   ],
   "source": [
    "fig = bar_plot(df, commerce, 2019, frequency, variable=\"netWeight\", ncm_code=\"12019000\", include_countries=False)\n",
    "fig.update_layout(legend = dict(yanchor=\"top\", xanchor=\"left\", orientation=\"v\",))"
   ]
  }
 ],
 "metadata": {
  "kernelspec": {
   "display_name": "indec",
   "language": "python",
   "name": "python3"
  },
  "language_info": {
   "codemirror_mode": {
    "name": "ipython",
    "version": 3
   },
   "file_extension": ".py",
   "mimetype": "text/x-python",
   "name": "python",
   "nbconvert_exporter": "python",
   "pygments_lexer": "ipython3",
   "version": "3.11.3"
  },
  "orig_nbformat": 4,
  "vscode": {
   "interpreter": {
    "hash": "8e76e384a9df139c1746ba138f5ce3f6d0babc035eebae6bb58adb8dce6b6867"
   }
  }
 },
 "nbformat": 4,
 "nbformat_minor": 2
}

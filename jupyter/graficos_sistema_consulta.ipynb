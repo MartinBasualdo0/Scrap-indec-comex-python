{
 "cells": [
  {
   "cell_type": "code",
   "execution_count": 3,
   "metadata": {},
   "outputs": [],
   "source": [
    "from config_jupyter.config import set_wd\n",
    "set_wd()\n",
    "from modules.main_consulting_system import main_get_commerce_df\n",
    "from modules.plots import bar_plot"
   ]
  },
  {
   "cell_type": "code",
   "execution_count": 4,
   "metadata": {},
   "outputs": [],
   "source": [
    "commerce=\"exports\"\n",
    "frequency=\"M\" \n",
    "year_from=2010"
   ]
  },
  {
   "cell_type": "code",
   "execution_count": 5,
   "metadata": {},
   "outputs": [
    {
     "name": "stdout",
     "output_type": "stream",
     "text": [
      "File downloaded successfully. exports_2010_M.zip\n",
      "File downloaded successfully. exports_2011_M.zip\n",
      "File downloaded successfully. exports_2012_M.zip\n",
      "File downloaded successfully. exports_2013_M.zip\n",
      "File downloaded successfully. exports_2014_M.zip\n",
      "File downloaded successfully. exports_2015_M.zip\n",
      "File downloaded successfully. exports_2016_M.zip\n",
      "File downloaded successfully. exports_2017_M.zip\n",
      "File downloaded successfully. exports_2018_M.zip\n",
      "File downloaded successfully. exports_2019_M.zip\n",
      "File downloaded successfully. exports_2020_M.zip\n",
      "File downloaded successfully. exports_2021_M.zip\n",
      "File downloaded successfully. exports_2022_M.zip\n",
      "File downloaded successfully. exports_2023_M.zip\n",
      "File downloaded successfully. exports_2024_M.zip\n"
     ]
    }
   ],
   "source": [
    "df = main_get_commerce_df(\n",
    "    commerce=commerce,\n",
    "    frequency=frequency, \n",
    "    year_from=year_from,\n",
    "    drop_all_files=True\n",
    ")"
   ]
  },
  {
   "cell_type": "code",
   "execution_count": 6,
   "metadata": {},
   "outputs": [
    {
     "data": {
      "application/vnd.plotly.v1+json": {
       "config": {
        "plotlyServerURL": "https://plot.ly"
       },
       "data": [
        {
         "name": "Brasil",
         "type": "bar",
         "x": [
          "2010",
          "2012",
          "2014",
          "2015",
          "2019",
          "2020",
          "2021",
          "2022"
         ],
         "y": [
          null,
          null,
          null,
          null,
          0,
          0,
          0,
          0
         ]
        },
        {
         "name": "Espa?a",
         "type": "bar",
         "x": [
          "2010",
          "2012",
          "2014",
          "2015",
          "2019",
          "2020",
          "2021",
          "2022"
         ],
         "y": [
          null,
          null,
          null,
          null,
          0,
          0,
          null,
          null
         ]
        },
        {
         "name": "Estados Unidos",
         "type": "bar",
         "x": [
          "2010",
          "2012",
          "2014",
          "2015",
          "2019",
          "2020",
          "2021",
          "2022"
         ],
         "y": [
          0.00033,
          0.0000435,
          0.0000675,
          0.00120473,
          null,
          null,
          null,
          null
         ]
        }
       ],
       "layout": {
        "annotations": [
         {
          "font": {
           "size": 12
          },
          "showarrow": false,
          "text": "Fuente: @MartinBasualdo0 en base a INDEC",
          "x": 0.3,
          "xanchor": "right",
          "xref": "paper",
          "xshift": 0,
          "y": -0.1,
          "yanchor": "auto",
          "yref": "paper",
          "yshift": 0
         }
        ],
        "barmode": "relative",
        "height": 600,
        "legend": {
         "orientation": "v",
         "xanchor": "left",
         "y": 0.95,
         "yanchor": "top"
        },
        "separators": ",.",
        "template": {
         "data": {
          "scatter": [
           {
            "type": "scatter"
           }
          ]
         }
        },
        "title": {
         "text": "FOB exportado de: <br>\"Gas natural licuado\"<br><sup>En millones de US$</sup>"
        },
        "uniformtext": {
         "minsize": 10,
         "mode": "hide"
        },
        "width": 1000,
        "xaxis": {
         "title": {
          "text": ""
         },
         "type": "category"
        },
        "yaxis": {
         "tickformat": ",",
         "title": {
          "text": "Millones de us$"
         }
        }
       }
      }
     },
     "metadata": {},
     "output_type": "display_data"
    }
   ],
   "source": [
    "fig = bar_plot(df, commerce, year_from, frequency, variable=\"fob\", ncm_code=\"27111100\", include_countries=True)\n",
    "fig.update_layout(legend = dict(yanchor=\"top\", xanchor=\"left\", orientation=\"v\",))"
   ]
  }
 ],
 "metadata": {
  "kernelspec": {
   "display_name": "indec",
   "language": "python",
   "name": "python3"
  },
  "language_info": {
   "codemirror_mode": {
    "name": "ipython",
    "version": 3
   },
   "file_extension": ".py",
   "mimetype": "text/x-python",
   "name": "python",
   "nbconvert_exporter": "python",
   "pygments_lexer": "ipython3",
   "version": "3.11.3"
  },
  "orig_nbformat": 4,
  "vscode": {
   "interpreter": {
    "hash": "8e76e384a9df139c1746ba138f5ce3f6d0babc035eebae6bb58adb8dce6b6867"
   }
  }
 },
 "nbformat": 4,
 "nbformat_minor": 2
}

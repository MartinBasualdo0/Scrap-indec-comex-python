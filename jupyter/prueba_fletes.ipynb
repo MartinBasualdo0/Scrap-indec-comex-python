{
 "cells": [
  {
   "cell_type": "code",
   "execution_count": null,
   "metadata": {},
   "outputs": [],
   "source": [
    "from config_jupyter import set_wd\n",
    "set_wd()\n",
    "import modules.scrap_indec as scrap"
   ]
  },
  {
   "cell_type": "code",
   "execution_count": null,
   "metadata": {},
   "outputs": [],
   "source": [
    "scrap.scrap_database(anio_desde=\"2019\", anio_hasta=\"2019\",frecuencia=\"anual\")"
   ]
  },
  {
   "cell_type": "code",
   "execution_count": null,
   "metadata": {},
   "outputs": [],
   "source": [
    "df = scrap.extraer_y_concatenar_dfs_anuales(opciones=[\"2019\"],anio_hasta=\"19\")"
   ]
  },
  {
   "cell_type": "code",
   "execution_count": null,
   "metadata": {},
   "outputs": [],
   "source": [
    "import pandas as pd\n",
    "enmienda = pd.read_csv(\"data/CE_ENMIENDA.csv\", encoding=\"latin-1\", sep=\";\",dtype={\"ncm\":str,\"cnro_enmienda\":str})\n",
    "enmienda_dict = dict(zip(enmienda.ncm, enmienda.ncm_descri))\n",
    "pais_origen = pd.read_csv(\"data/CE_PAIS.csv\", sep=\";\",dtype=dict(CCOD_PAIS=str,CCOD_ASOC=str))\n",
    "pais_origen.CCOD_ASOC = pais_origen.CCOD_ASOC.fillna(pais_origen.CCOD_PAIS)\n",
    "dict_paises = dict(zip(pais_origen.CCOD_PAIS, pais_origen.CDESCRI))\n",
    "pais_origen['pais_descri'] = pais_origen.CCOD_ASOC.apply(lambda x: dict_paises[x])\n",
    "dict_paises = dict(zip(pais_origen.CCOD_PAIS, pais_origen.pais_descri))\n",
    "dict_continentes = {'1':\"África\",\"2\":\"América\",\"3\":\"Asia\",\"4\":\"Europa\",\"5\":\"Oceanía\",\"9\":\"Indeterminado\"}"
   ]
  },
  {
   "cell_type": "code",
   "execution_count": null,
   "metadata": {},
   "outputs": [],
   "source": [
    "df.insert(2, \"ncm_descri\", df.ncm.apply(lambda x: enmienda_dict[x]))\n",
    "df.insert(4,\"pais_descri\", df.porg.apply(lambda x: dict_paises[x]))\n",
    "df.insert(5,\"continente\", df.porg.apply(lambda x: dict_continentes[x[0]]))"
   ]
  },
  {
   "cell_type": "code",
   "execution_count": null,
   "metadata": {},
   "outputs": [],
   "source": [
    "df"
   ]
  },
  {
   "cell_type": "code",
   "execution_count": null,
   "metadata": {},
   "outputs": [],
   "source": [
    "def calculos(df:pd.DataFrame):\n",
    "    df[\"fle_fob\"] = df[\"flete(u$s)\"] / df[\"fob(u$s)\"]\n",
    "    df[\"fle_unitario\"] = df[\"flete(u$s)\"] / df[\"pnet(kg)\"] * 1_000_000\n",
    "    return df"
   ]
  },
  {
   "cell_type": "code",
   "execution_count": null,
   "metadata": {},
   "outputs": [],
   "source": [
    "calculos(df).sort_values(\"fle_fob\",ascending=False).head(20) # hay valores muy bajos que generan outliers"
   ]
  },
  {
   "cell_type": "code",
   "execution_count": null,
   "metadata": {},
   "outputs": [],
   "source": [
    "sum(df[\"flete(u$s)\"]) / sum(df[\"fob(u$s)\"])"
   ]
  },
  {
   "cell_type": "code",
   "execution_count": null,
   "metadata": {},
   "outputs": [],
   "source": [
    "calculos(df).columns"
   ]
  },
  {
   "cell_type": "code",
   "execution_count": null,
   "metadata": {},
   "outputs": [],
   "source": [
    "import plotly.graph_objects as go\n",
    "\n",
    "def plot_observaciones():\n",
    "    df_plot = df.copy()\n",
    "    df_plot = calculos(df_plot)\n",
    "    fig = go.Figure(data=go.Scatter(\n",
    "    x=df_plot[\"fob(u$s)\"]/1_000_000,\n",
    "    y=df_plot['flete(u$s)']/1_000_000,\n",
    "    mode='markers',\n",
    "    \n",
    "    customdata=df[[\"ncm\", \"ncm_descri\", \"pais_descri\", \"fle_fob\", \"fle_unitario\"]],\n",
    "    hovertemplate=\n",
    "    \"<b>FOB:</b> %{x}<br>\" +\n",
    "    \"<b>Flete:</b> %{y}<br>\"+\n",
    "    \"<b>NCM:</b> %{customdata[0]}<br>\" +\n",
    "    \"<b>Descripción NCM:</b> %{customdata[1]}<br>\" +\n",
    "    \"<b>País:</b> %{customdata[2]}<br>\" +\n",
    "    \"<b>Flete / FOB:</b> %{customdata[3]}<br>\" +\n",
    "    \"<b>Flete Unitario:</b> %{customdata[4]}<br>\" +\n",
    "    \"<extra></extra>\"\n",
    "    \n",
    "    # customdata=[\n",
    "    #     df_plot[\"ncm\"], df_plot[\"ncm_descri\"], df_plot[\"pais_descri\"], df_plot[\"fle_fob\"], df_plot[\"fle_unitario\"]\n",
    "    # ],\n",
    "    # hovertemplate=\n",
    "    # '<b>ncm:</b> %{customdata[0]}<br>' +\n",
    "    # '<b>ncm_descri:</b> %{customdata[1]}<br>' +\n",
    "    # '<b>pais_descri:</b> %{customdata[2]}<br>' +\n",
    "    # '<b>fle_fob:</b> %{customdata[3]}<br>' +\n",
    "    # '<b>fle_unitario:</b> %{customdata[4]}<br>',\n",
    "))\n",
    "\n",
    "    fig.update_yaxes(tickformat = \",\")\n",
    "    fig.update_xaxes(tickformat = \",\")\n",
    "    fig.update_layout(\n",
    "        template = None,\n",
    "        xaxis_title='fob(u$s)',\n",
    "        yaxis_title='flete(u$s)',\n",
    "        title='Gráfico Scatter',\n",
    "        separators = \",.\"\n",
    "    )\n",
    "    return fig\n",
    "\n",
    "# plot_observaciones()"
   ]
  },
  {
   "cell_type": "code",
   "execution_count": null,
   "metadata": {},
   "outputs": [],
   "source": [
    "def plot_observaciones():\n",
    "    df_plot = df.copy()\n",
    "    df_plot = calculos(df_plot)\n",
    "    df_plot = df_plot[(df_plot[\"fob(u$s)\"] >= 1_000_000)&(df_plot.continente != \"Indeterminado\")&\n",
    "                      (df.pais_descri != \"Argentina\")]\n",
    "    fig = go.Figure(data=go.Scatter(\n",
    "    x=df_plot[\"fob(u$s)\"]/1_000_000,\n",
    "    y=df_plot['fle_fob'],\n",
    "    mode='markers',\n",
    "    \n",
    "    customdata=df_plot[[\"ncm\", \"ncm_descri\", \"pais_descri\", \"fob(u$s)\", \"fle_unitario\"]],\n",
    "    hovertemplate=\n",
    "    \"<b>Flete / FOB:</b> %{y}<br>\" +\n",
    "    \"<b>Flete:</b> %{x}<br>\"+\n",
    "    \"<b>NCM:</b> %{customdata[0]}<br>\" +\n",
    "    \"<b>Descripción NCM:</b> %{customdata[1]}<br>\" +\n",
    "    \"<b>País:</b> %{customdata[2]}<br>\" +\n",
    "    \"<b>FOB:</b> %{customdata[3]}<br>\" +\n",
    "    \"<b>Flete Unitario:</b> %{customdata[4]}<br>\" +\n",
    "    \"<extra></extra>\"\n",
    "    \n",
    "    # customdata=[\n",
    "    #     df_plot[\"ncm\"], df_plot[\"ncm_descri\"], df_plot[\"pais_descri\"], df_plot[\"fle_fob\"], df_plot[\"fle_unitario\"]\n",
    "    # ],\n",
    "    # hovertemplate=\n",
    "    # '<b>ncm:</b> %{customdata[0]}<br>' +\n",
    "    # '<b>ncm_descri:</b> %{customdata[1]}<br>' +\n",
    "    # '<b>pais_descri:</b> %{customdata[2]}<br>' +\n",
    "    # '<b>fle_fob:</b> %{customdata[3]}<br>' +\n",
    "    # '<b>fle_unitario:</b> %{customdata[4]}<br>',\n",
    "))\n",
    "\n",
    "    fig.update_yaxes(tickformat = \",\")\n",
    "    fig.update_xaxes(tickformat = \",\")\n",
    "    fig.update_layout(\n",
    "        template = None,\n",
    "        xaxis_title='fob(u$s)',\n",
    "        yaxis_title='flete / fob',\n",
    "        title='Gráfico Scatter',\n",
    "        separators = \",.\"\n",
    "    )\n",
    "    return fig\n",
    "\n",
    "plot_observaciones()"
   ]
  },
  {
   "cell_type": "code",
   "execution_count": null,
   "metadata": {},
   "outputs": [],
   "source": [
    "df[df[\"fob(u$s)\"] >= 1_000_000].sort_values(\"fle_fob\",ascending=False).describe()"
   ]
  },
  {
   "cell_type": "code",
   "execution_count": null,
   "metadata": {},
   "outputs": [],
   "source": [
    "df[df[\"fob(u$s)\"] >= 1_000_000].sort_values(\"fle_fob\",ascending=False)"
   ]
  },
  {
   "cell_type": "code",
   "execution_count": null,
   "metadata": {},
   "outputs": [],
   "source": [
    "import pandas as pd\n",
    "import matplotlib.pyplot as plt\n",
    "import seaborn as sns\n",
    "def boxplot():\n",
    "    df_plot = df.copy()\n",
    "    df_plot = calculos(df_plot)\n",
    "    df_plot = df_plot[(df_plot[\"fob(u$s)\"] >= 1_000_000)&(df_plot.continente != \"Indeterminado\")&\n",
    "                      (df.pais_descri != \"Argentina\")]\n",
    "    \n",
    "    # Crea el boxplot utilizando Seaborn\n",
    "    plt.figure(figsize=(8, 6))\n",
    "    sns.boxplot(data=df_plot, x=\"continente\", y=\"fle_fob\")\n",
    "\n",
    "    # Personaliza el gráfico\n",
    "    plt.title(\"Boxplot del Flete FOB por Continente\")\n",
    "    plt.xlabel(\"Continente\")\n",
    "    plt.ylabel(\"Flete / FOB\")\n",
    "    \n",
    "    return plt.show()\n",
    "\n",
    "boxplot()\n"
   ]
  },
  {
   "cell_type": "code",
   "execution_count": null,
   "metadata": {},
   "outputs": [],
   "source": [
    "import pandas as pd\n",
    "import plotly.express as px\n",
    "\n",
    "def boxplot():\n",
    "    df_plot = df.copy()\n",
    "    df_plot = calculos(df_plot)\n",
    "    df_plot = df_plot[(df_plot[\"fob(u$s)\"] >= 1_000_000)&(df_plot.continente != \"Indeterminado\")&\n",
    "                      (df.pais_descri != \"Argentina\")]\n",
    "    \n",
    "    # Crea el gráfico de boxplot utilizando Plotly Express\n",
    "    fig = px.box(df_plot, x=\"continente\", y=\"fle_fob\",color=\"continente\", hover_data=[\"ncm\", \"ncm_descri\",\"pais_descri\"])\n",
    "    fig.update_yaxes(range=[0,0.3])\n",
    "    # Personaliza el gráfico\n",
    "    fig.update_layout(\n",
    "        title=\"Boxplot del Flete FOB por Continente\",\n",
    "        xaxis_title=\"Continente\",\n",
    "        yaxis_title=\"Flete / FOB\",\n",
    "        template = None\n",
    "    )\n",
    "    \n",
    "    # Muestra el gráfico\n",
    "    fig.show()\n",
    "\n",
    "boxplot()\n"
   ]
  }
 ],
 "metadata": {
  "kernelspec": {
   "display_name": ".venv",
   "language": "python",
   "name": "python3"
  },
  "language_info": {
   "codemirror_mode": {
    "name": "ipython",
    "version": 3
   },
   "file_extension": ".py",
   "mimetype": "text/x-python",
   "name": "python",
   "nbconvert_exporter": "python",
   "pygments_lexer": "ipython3",
   "version": "3.10.9"
  },
  "orig_nbformat": 4
 },
 "nbformat": 4,
 "nbformat_minor": 2
}

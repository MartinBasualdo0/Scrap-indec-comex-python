{
 "cells": [
  {
   "cell_type": "code",
   "execution_count": 11,
   "metadata": {},
   "outputs": [],
   "source": [
    "import pandas as pd\n",
    "from selenium import webdriver\n",
    "from selenium.webdriver.support.ui import WebDriverWait\n",
    "from selenium.webdriver.support.ui import Select\n",
    "from selenium.webdriver.common.by import By\n",
    "from webdriver_manager.chrome import ChromeDriverManager\n",
    "from selenium.webdriver.chrome.service import Service\n",
    "import os\n",
    "from glob import glob\n",
    "import time\n",
    "import zipfile\n",
    "import plotly.graph_objects as go\n",
    "import plotly.express as px"
   ]
  },
  {
   "cell_type": "code",
   "execution_count": 12,
   "metadata": {},
   "outputs": [],
   "source": [
    "anio=str(input('desde que anio: '))\n",
    "link_consulta='https://comex.indec.gob.ar/?_ga=2.1947448.887743671.1661390997-1687177890.1630124319#/database'"
   ]
  },
  {
   "cell_type": "code",
   "execution_count": 13,
   "metadata": {},
   "outputs": [],
   "source": [
    "def inicio_driver(link:str):\n",
    "    service = Service(ChromeDriverManager().install())\n",
    "    carpeta_descarga=os.getcwd().replace('src','downloads')\n",
    "    prefs = {'download.default_directory' : carpeta_descarga,\n",
    "        \"directory_upgrade\": True}\n",
    "    chrome_options = webdriver.ChromeOptions()\n",
    "    chrome_options.add_experimental_option(\"prefs\", prefs)\n",
    "    driver = webdriver.Chrome(service=service, options=chrome_options)\n",
    "    driver.get(link)\n",
    "    driver.maximize_window()\n",
    "    return driver\n",
    "\n",
    "def every_downloads_chrome(driver):\n",
    "    '''Para ver cuando terminan las descargas'''\n",
    "    if not driver.current_url.startswith(\"chrome://downloads\"):\n",
    "        driver.get(\"chrome://downloads/\")\n",
    "    return driver.execute_script(\"\"\"\n",
    "        var items = document.querySelector('downloads-manager')\n",
    "            .shadowRoot.getElementById('downloadsList').items;\n",
    "        if (items.every(e => e.state === \"COMPLETE\"))\n",
    "            return items.map(e => e.fileUrl || e.file_url);\n",
    "        \"\"\")"
   ]
  },
  {
   "cell_type": "code",
   "execution_count": 14,
   "metadata": {},
   "outputs": [],
   "source": [
    "driver = inicio_driver(link_consulta)\n",
    "def scrap_database(driver, frecuencia = \"Mensual\"):\n",
    "    '''Frecuencia: Mensual o Anual'''\n",
    "    frecuencia = frecuencia.capitalize()\n",
    "\n",
    "    lista_botones=driver.find_elements(By.CLASS_NAME, \"form-control\")\n",
    "\n",
    "    #A partir de acá, quiero  cambiar el anio hacia delante\n",
    "\n",
    "    select_comercio=Select(lista_botones[0])\n",
    "    select_comercio.select_by_value('exports')\n",
    "\n",
    "    select_frecuencia=Select(lista_botones[2])\n",
    "    select_frecuencia.select_by_visible_text(frecuencia)\n",
    "\n",
    "    #Lo pongo despues para hacer el loop\n",
    "\n",
    "    select_anio=Select(lista_botones[1])\n",
    "\n",
    "\n",
    "    opciones=[]\n",
    "    for option in select_anio.options: \n",
    "        opciones.append(option.get_attribute('value'))\n",
    "    opciones.pop(0)\n",
    "    # opciones=filter(lambda x: int(x)>=int(anio),opciones)\n",
    "    opciones=list(filter(lambda x: x>=anio,opciones))\n",
    "\n",
    "    for opcion in opciones:\n",
    "        select_anio.select_by_visible_text(opcion)\n",
    "        descarga=driver.find_element(By.CLASS_NAME, \"btn-outline-primary\")\n",
    "        descarga.click()\n",
    "        time.sleep(1)\n",
    "        \n",
    "    paths = WebDriverWait(driver, 300, 1).until(every_downloads_chrome)\n",
    "    driver.quit()\n",
    "    \n",
    "    return opciones\n",
    "\n",
    "opciones = scrap_database(driver,frecuencia=\"mensual\")\n",
    "scrap_database(driver, frecuencia=\"anual\")\n",
    "\n"
   ]
  },
  {
   "cell_type": "code",
   "execution_count": 15,
   "metadata": {},
   "outputs": [],
   "source": [
    "columnas_anuales=['Año', 'NCM', 'Pdes', 'Pnet(kg)', 'FOB(u$s)']\n",
    "\n",
    "def concatenacion_dfs_anuales(opciones=opciones):\n",
    "    '''Extrae y concatena las dfs'''\n",
    "    dfs={}\n",
    "    for idx, opcion in enumerate(opciones):\n",
    "        with zipfile.ZipFile(f'../downloads/exports_{opcion}_Y.zip', 'r') as zip_ref:\n",
    "            zip_ref.extractall('../downloads')\n",
    "        try: df=pd.read_csv(f'../downloads/expona{opcion[2:]}.csv', sep=';', encoding='latin-1',decimal=',', dtype={'NCM':str, 'pdes':str})\n",
    "        except: df=pd.read_csv(f'../downloads/expot{opcion[2:]}.csv', sep=';', encoding='latin-1',decimal=',', dtype={'NCM':str, 'pdes':str})\n",
    "        df.rename(columns={col: col.lower() for col in columnas_anuales}, inplace=True)\n",
    "        df.ncm=df.ncm.apply(lambda x: x.strip())\n",
    "        dfs[str(2022-idx)] = df\n",
    "    return pd.concat([dfs[key] for key in dfs.keys()])\n",
    "\n",
    "df_anual=concatenacion_dfs_anuales()"
   ]
  },
  {
   "cell_type": "code",
   "execution_count": 16,
   "metadata": {},
   "outputs": [],
   "source": [
    "columnas=['Año', 'Mes', 'NCM', 'Pdes', 'Pnet(kg)', 'FOB(u$s)', 'CIF(u$s)']\n",
    "def concatenacion_dfs_mensuales(opciones=opciones):\n",
    "    '''Extrae y concatena las dfs'''\n",
    "    dfs={}\n",
    "    for idx, opcion in enumerate(opciones):\n",
    "        with zipfile.ZipFile(f'../downloads/exports_{opcion}_M.zip', 'r') as zip_ref:\n",
    "            zip_ref.extractall('../downloads')\n",
    "        try: df=pd.read_csv(f'../downloads/exponm{opcion[2:]}.csv', sep=';', encoding='latin-1',decimal=',', dtype={'NCM':str, 'pdes':str})\n",
    "        except: df=pd.read_csv(f'../downloads/expom{opcion[2:]}.csv', sep=';', encoding='latin-1',decimal=',', dtype={'NCM':str, 'pdes':str})\n",
    "        df.rename(columns={col: col.lower() for col in columnas}, inplace=True)\n",
    "        df.ncm=df.ncm.apply(lambda x: x.strip())\n",
    "        dfs[str(2022-idx)] = df\n",
    "    return pd.concat([dfs[key] for key in dfs.keys()])\n",
    "\n",
    "df_completa=concatenacion_dfs_mensuales()"
   ]
  },
  {
   "cell_type": "code",
   "execution_count": 17,
   "metadata": {},
   "outputs": [],
   "source": [
    "def limpieza_y_correcion_dfs(df):\n",
    "    df['pnet(kg)']=df['pnet(kg)'].astype(str).apply(lambda x: x.replace(',','.'))\n",
    "    df['fob(u$s)']=df['fob(u$s)'].astype(str).apply(lambda x: x.replace(',','.'))\n",
    "    df.loc[df['pnet(kg)'].str.contains(\"s\"), 'pnet(kg)'] = \"0\"\n",
    "    df.loc[df['fob(u$s)'].str.contains(\"s\"), 'fob(u$s)'] = \"0\"\n",
    "    df['pnet(kg)']=df['pnet(kg)'].astype(float)\n",
    "    df['fob(u$s)']=df['fob(u$s)'].astype(float)\n",
    "    df.pdes=df.pdes.astype(str)\n",
    "    df.año=df.año.astype(str)\n",
    "    return df\n",
    "\n",
    "df_completa = limpieza_y_correcion_dfs(df_completa)\n",
    "df_completa.mes=df_completa.mes.astype(str)\n",
    "df_anual = limpieza_y_correcion_dfs(df_anual)"
   ]
  },
  {
   "cell_type": "code",
   "execution_count": 18,
   "metadata": {},
   "outputs": [
    {
     "name": "stderr",
     "output_type": "stream",
     "text": [
      "C:\\Users\\mbasualdo\\AppData\\Local\\Temp\\ipykernel_10804\\2645471985.py:3: FutureWarning: The default value of numeric_only in DataFrameGroupBy.sum is deprecated. In a future version, numeric_only will default to False. Either specify numeric_only or select only columns which should be valid for the function.\n",
      "  partida.groupby([\"año\",\"partida\"],as_index=False).sum()\n"
     ]
    },
    {
     "data": {
      "text/html": [
       "<div>\n",
       "<style scoped>\n",
       "    .dataframe tbody tr th:only-of-type {\n",
       "        vertical-align: middle;\n",
       "    }\n",
       "\n",
       "    .dataframe tbody tr th {\n",
       "        vertical-align: top;\n",
       "    }\n",
       "\n",
       "    .dataframe thead th {\n",
       "        text-align: right;\n",
       "    }\n",
       "</style>\n",
       "<table border=\"1\" class=\"dataframe\">\n",
       "  <thead>\n",
       "    <tr style=\"text-align: right;\">\n",
       "      <th></th>\n",
       "      <th>año</th>\n",
       "      <th>partida</th>\n",
       "      <th>pnet(kg)</th>\n",
       "      <th>fob(u$s)</th>\n",
       "    </tr>\n",
       "  </thead>\n",
       "  <tbody>\n",
       "    <tr>\n",
       "      <th>0</th>\n",
       "      <td>2019</td>\n",
       "      <td>0101</td>\n",
       "      <td>1.301600e+06</td>\n",
       "      <td>2.820670e+07</td>\n",
       "    </tr>\n",
       "    <tr>\n",
       "      <th>1</th>\n",
       "      <td>2019</td>\n",
       "      <td>0102</td>\n",
       "      <td>1.316300e+05</td>\n",
       "      <td>1.072409e+06</td>\n",
       "    </tr>\n",
       "    <tr>\n",
       "      <th>2</th>\n",
       "      <td>2019</td>\n",
       "      <td>0103</td>\n",
       "      <td>0.000000e+00</td>\n",
       "      <td>0.000000e+00</td>\n",
       "    </tr>\n",
       "    <tr>\n",
       "      <th>3</th>\n",
       "      <td>2019</td>\n",
       "      <td>0104</td>\n",
       "      <td>3.579000e+03</td>\n",
       "      <td>4.653628e+04</td>\n",
       "    </tr>\n",
       "    <tr>\n",
       "      <th>4</th>\n",
       "      <td>2019</td>\n",
       "      <td>0105</td>\n",
       "      <td>0.000000e+00</td>\n",
       "      <td>0.000000e+00</td>\n",
       "    </tr>\n",
       "    <tr>\n",
       "      <th>...</th>\n",
       "      <td>...</td>\n",
       "      <td>...</td>\n",
       "      <td>...</td>\n",
       "      <td>...</td>\n",
       "    </tr>\n",
       "    <tr>\n",
       "      <th>5145</th>\n",
       "      <td>2023</td>\n",
       "      <td>9702</td>\n",
       "      <td>0.000000e+00</td>\n",
       "      <td>0.000000e+00</td>\n",
       "    </tr>\n",
       "    <tr>\n",
       "      <th>5146</th>\n",
       "      <td>2023</td>\n",
       "      <td>9703</td>\n",
       "      <td>4.092300e+03</td>\n",
       "      <td>9.166562e+04</td>\n",
       "    </tr>\n",
       "    <tr>\n",
       "      <th>5147</th>\n",
       "      <td>2023</td>\n",
       "      <td>9705</td>\n",
       "      <td>0.000000e+00</td>\n",
       "      <td>0.000000e+00</td>\n",
       "    </tr>\n",
       "    <tr>\n",
       "      <th>5148</th>\n",
       "      <td>2023</td>\n",
       "      <td>9998</td>\n",
       "      <td>1.992130e+08</td>\n",
       "      <td>2.474655e+08</td>\n",
       "    </tr>\n",
       "    <tr>\n",
       "      <th>5149</th>\n",
       "      <td>2023</td>\n",
       "      <td>9999</td>\n",
       "      <td>7.077951e+08</td>\n",
       "      <td>1.067297e+09</td>\n",
       "    </tr>\n",
       "  </tbody>\n",
       "</table>\n",
       "<p>5150 rows × 4 columns</p>\n",
       "</div>"
      ],
      "text/plain": [
       "       año partida      pnet(kg)      fob(u$s)\n",
       "0     2019    0101  1.301600e+06  2.820670e+07\n",
       "1     2019    0102  1.316300e+05  1.072409e+06\n",
       "2     2019    0103  0.000000e+00  0.000000e+00\n",
       "3     2019    0104  3.579000e+03  4.653628e+04\n",
       "4     2019    0105  0.000000e+00  0.000000e+00\n",
       "...    ...     ...           ...           ...\n",
       "5145  2023    9702  0.000000e+00  0.000000e+00\n",
       "5146  2023    9703  4.092300e+03  9.166562e+04\n",
       "5147  2023    9705  0.000000e+00  0.000000e+00\n",
       "5148  2023    9998  1.992130e+08  2.474655e+08\n",
       "5149  2023    9999  7.077951e+08  1.067297e+09\n",
       "\n",
       "[5150 rows x 4 columns]"
      ]
     },
     "execution_count": 18,
     "metadata": {},
     "output_type": "execute_result"
    }
   ],
   "source": [
    "partida = df_anual.copy()\n",
    "partida[\"partida\"] = partida.ncm.apply(lambda x: x[:4])\n",
    "partida.groupby([\"año\",\"partida\"],as_index=False).sum()\n",
    "# \"{}\"partida[(partida.partida == \"4811\")&(partida.año == \"2018\")][\"fob(u$s)\"].sum()\n"
   ]
  },
  {
   "cell_type": "code",
   "execution_count": 19,
   "metadata": {},
   "outputs": [
    {
     "name": "stderr",
     "output_type": "stream",
     "text": [
      "C:\\Users\\mbasualdo\\AppData\\Local\\Temp\\ipykernel_10804\\838485921.py:4: FutureWarning: The default value of numeric_only in DataFrameGroupBy.sum is deprecated. In a future version, numeric_only will default to False. Either specify numeric_only or select only columns which should be valid for the function.\n",
      "  df_sin_secreto = df_sin_secreto.groupby(\"año\",as_index=False).sum()\n"
     ]
    },
    {
     "data": {
      "text/html": [
       "<div>\n",
       "<style scoped>\n",
       "    .dataframe tbody tr th:only-of-type {\n",
       "        vertical-align: middle;\n",
       "    }\n",
       "\n",
       "    .dataframe tbody tr th {\n",
       "        vertical-align: top;\n",
       "    }\n",
       "\n",
       "    .dataframe thead th {\n",
       "        text-align: right;\n",
       "    }\n",
       "</style>\n",
       "<table border=\"1\" class=\"dataframe\">\n",
       "  <thead>\n",
       "    <tr style=\"text-align: right;\">\n",
       "      <th></th>\n",
       "      <th>año</th>\n",
       "      <th>pnet(kg)</th>\n",
       "      <th>fob(u$s)_x</th>\n",
       "      <th>fob(u$s)_y</th>\n",
       "      <th>proporcion</th>\n",
       "    </tr>\n",
       "  </thead>\n",
       "  <tbody>\n",
       "    <tr>\n",
       "      <th>0</th>\n",
       "      <td>2019</td>\n",
       "      <td>1.246168e+11</td>\n",
       "      <td>6.174265e+10</td>\n",
       "      <td>3.372675e+09</td>\n",
       "      <td>5.462473</td>\n",
       "    </tr>\n",
       "    <tr>\n",
       "      <th>1</th>\n",
       "      <td>2020</td>\n",
       "      <td>1.144252e+11</td>\n",
       "      <td>5.240502e+10</td>\n",
       "      <td>2.478800e+09</td>\n",
       "      <td>4.730080</td>\n",
       "    </tr>\n",
       "    <tr>\n",
       "      <th>2</th>\n",
       "      <td>2021</td>\n",
       "      <td>1.270206e+11</td>\n",
       "      <td>7.390435e+10</td>\n",
       "      <td>4.029968e+09</td>\n",
       "      <td>5.452951</td>\n",
       "    </tr>\n",
       "    <tr>\n",
       "      <th>3</th>\n",
       "      <td>2022</td>\n",
       "      <td>1.235363e+11</td>\n",
       "      <td>8.417510e+10</td>\n",
       "      <td>4.270615e+09</td>\n",
       "      <td>5.073489</td>\n",
       "    </tr>\n",
       "    <tr>\n",
       "      <th>4</th>\n",
       "      <td>2023</td>\n",
       "      <td>1.184904e+10</td>\n",
       "      <td>9.042552e+09</td>\n",
       "      <td>1.067297e+09</td>\n",
       "      <td>11.803048</td>\n",
       "    </tr>\n",
       "  </tbody>\n",
       "</table>\n",
       "</div>"
      ],
      "text/plain": [
       "    año      pnet(kg)    fob(u$s)_x    fob(u$s)_y  proporcion\n",
       "0  2019  1.246168e+11  6.174265e+10  3.372675e+09    5.462473\n",
       "1  2020  1.144252e+11  5.240502e+10  2.478800e+09    4.730080\n",
       "2  2021  1.270206e+11  7.390435e+10  4.029968e+09    5.452951\n",
       "3  2022  1.235363e+11  8.417510e+10  4.270615e+09    5.073489\n",
       "4  2023  1.184904e+10  9.042552e+09  1.067297e+09   11.803048"
      ]
     },
     "execution_count": 19,
     "metadata": {},
     "output_type": "execute_result"
    }
   ],
   "source": [
    "def plot_df_secreto(df = df_anual):\n",
    "    df_secreto = df[df.ncm == \"99999999\"].copy()\n",
    "    df_sin_secreto = df[(df.ncm != \"99999999\") & (df.año >= \"2018\")].copy()\n",
    "    df_sin_secreto = df_sin_secreto.groupby(\"año\",as_index=False).sum()\n",
    "    prop_secreto = df_sin_secreto.merge(df_secreto[[\"año\",\"fob(u$s)\"]],how=\"left\", on = \"año\")\n",
    "    prop_secreto[\"proporcion\"] = prop_secreto[\"fob(u$s)_y\"] / prop_secreto[\"fob(u$s)_x\"]*100\n",
    "    fig = go.Figure()\n",
    "    fig.add_trace(go.Bar(x = df_secreto.año, y = df_secreto[\"fob(u$s)\"]/1000000, name = \"Secreto\"))\n",
    "    fig.add_trace(go.Bar(x = df_sin_secreto.año, y = df_sin_secreto[\"fob(u$s)\"]/1000000, name = \"FOB sin secreto\"))\n",
    "    fig.update_yaxes(tickformat = \",\")\n",
    "    fig.update_layout(template = None, separators = \",.\", title_text = \"Secreto estadístico a nivel producto en millones de USD\")\n",
    "    return prop_secreto, fig\n",
    "plot_df_secreto()[0]"
   ]
  },
  {
   "cell_type": "code",
   "execution_count": 20,
   "metadata": {},
   "outputs": [],
   "source": [
    "#lista de paises\n",
    "\n",
    "paises=pd.read_csv('../data/CE_PAIS.csv', sep=';', dtype={'CCOD_ASOC':str})\n",
    "paises['cod_final']=paises.CCOD_ASOC.fillna(paises.CCOD_PAIS)\n",
    "dic_paises=dict(zip(paises.CCOD_PAIS,paises.CDESCRI))\n",
    "paises['descri_final'] = paises.cod_final.apply(lambda x: dic_paises[x])\n",
    "dic_cod_paises=dict(zip(paises.CCOD_PAIS,paises.cod_final))\n",
    "asociados=paises[~paises.CCOD_ASOC.isna()] #para ver cod con asociados\n",
    "dic_paises_asociados=dict(zip(paises.CCOD_PAIS,paises.descri_final))\n",
    "paises=paises[['cod_final','descri_final']]\n",
    "#Paises\n",
    "\n",
    "def inserta_paises(df):\n",
    "    df.insert(4,'pais_descri',df.pdes.apply(lambda x: dic_paises[x]))\n",
    "    df.insert(5,'cod_final',df.pdes.apply(lambda x: dic_cod_paises[x]))\n",
    "    df.insert(6,'descri_final',df.pdes.apply(lambda x: dic_paises_asociados[x]))\n",
    "    df = df.fillna(0)\n",
    "    df = df.drop('pdes',axis=1)\n",
    "    df = df.drop('pais_descri', axis = 1)\n",
    "    return df\n",
    "\n",
    "df_completa = inserta_paises(df_completa)\n",
    "df_anual = inserta_paises(df_anual)"
   ]
  },
  {
   "cell_type": "code",
   "execution_count": 21,
   "metadata": {},
   "outputs": [
    {
     "data": {
      "text/plain": [
       "'Diciembre'"
      ]
     },
     "execution_count": 21,
     "metadata": {},
     "output_type": "execute_result"
    }
   ],
   "source": [
    "#Para ver el ultimo mes disponible\n",
    "dic_meses={\n",
    "    'Enero':1,\n",
    "    'Febrero':2,\n",
    "    'Marzo':3,\n",
    "    'Abril':4,\n",
    "    'Mayo':5,\n",
    "    'Junio':6,\n",
    "    'Julio':7,\n",
    "    'Agosto':8,\n",
    "    'Septiembre':9,\n",
    "    'Octubre':10,\n",
    "    'Noviembre':11,\n",
    "    'Diciembre':12\n",
    "}\n",
    "dic_meses={v:k for k,v in dic_meses.items()}\n",
    "def ultimo_mes(df = df_completa):\n",
    "    df.año = df.año.astype(int)\n",
    "    df.mes = df.mes.astype(int)\n",
    "    df.sort_values([\"año\",\"mes\"],ascending=True)\n",
    "    return dic_meses[df.mes.iloc[-1]]\n",
    "\n",
    "ultimo_mes_disponible = ultimo_mes(df_completa)\n",
    "ultimo_anio_disponible = int(df_completa.sort_values(['año','mes'],ascending=False).reset_index(drop=True)\n",
    "         .año.iloc[0])\n",
    "\n",
    "ultimo_mes_disponible\n"
   ]
  },
  {
   "cell_type": "code",
   "execution_count": 22,
   "metadata": {},
   "outputs": [],
   "source": [
    "descripciones_df = pd.read_csv('../data/CE_ENMIENDA.csv',sep=';',dtype={'ncm':str,'cnro_enmienda':int})\n",
    "def put_descripciones_ncm(df):\n",
    "    return df.merge(descripciones_df, on = 'ncm',how = 'left')\n",
    "df_anual = put_descripciones_ncm(df_anual)\n",
    "df_completa = put_descripciones_ncm(df_completa)"
   ]
  },
  {
   "cell_type": "code",
   "execution_count": 23,
   "metadata": {},
   "outputs": [
    {
     "name": "stderr",
     "output_type": "stream",
     "text": [
      "C:\\Users\\mbasualdo\\AppData\\Local\\Temp\\ipykernel_10804\\3768948586.py:14: FutureWarning:\n",
      "\n",
      "The default value of numeric_only in DataFrameGroupBy.sum is deprecated. In a future version, numeric_only will default to False. Either specify numeric_only or select only columns which should be valid for the function.\n",
      "\n"
     ]
    },
    {
     "data": {
      "application/vnd.plotly.v1+json": {
       "config": {
        "plotlyServerURL": "https://plot.ly"
       },
       "data": [
        {
         "name": "FOB Aceite de soja",
         "textposition": "inside",
         "type": "bar",
         "x": [
          "2019",
          "2020",
          "2021",
          "2022",
          "2023"
         ],
         "y": [
          357.24297047999994,
          236.00851665000002,
          158.97938879000003,
          740.81652975,
          180.52708387
         ]
        }
       ],
       "layout": {
        "annotations": [
         {
          "font": {
           "size": 12
          },
          "showarrow": false,
          "text": "Fuente: @MartinBasualdo0 en base a INDEC. Datos del 2023 hasta Diciembre",
          "x": 0.5,
          "xanchor": "right",
          "xref": "paper",
          "xshift": 0,
          "y": -0.1,
          "yanchor": "auto",
          "yref": "paper",
          "yshift": 0
         }
        ],
        "barmode": "relative",
        "font": {
         "family": "Georgia"
        },
        "height": 600,
        "legend": {
         "orientation": "v",
         "x": 1,
         "xanchor": "left",
         "y": 1,
         "yanchor": "top"
        },
        "separators": ",.",
        "template": {
         "data": {
          "scatter": [
           {
            "type": "scatter"
           }
          ]
         }
        },
        "title": {
         "text": "FOB exportado de: <br>\"Gas natural en estado gaseoso\"<br><sup>En millones de dólares</sup>"
        },
        "uniformtext": {
         "minsize": 10,
         "mode": "hide"
        },
        "width": 1000,
        "xaxis": {
         "tickmode": "linear"
        },
        "yaxis": {
         "tickformat": ",",
         "title": {
          "text": "Millones USD"
         }
        }
       }
      }
     },
     "metadata": {},
     "output_type": "display_data"
    }
   ],
   "source": [
    "def acorta_descri(descri, largo = 45):\n",
    "    if len(descri)>=largo:\n",
    "        return descri[:largo]+'...'\n",
    "    else:\n",
    "        return descri\n",
    "    \n",
    "\n",
    "def ncm_fob_anual(anio_desde,df=df_anual, ncm='23040010'):\n",
    "    ncm=str(ncm)\n",
    "    anio_desde=str(anio_desde)\n",
    "    df = df[df['año'] >= anio_desde].reset_index(drop = True)\n",
    "    df=df[df.ncm==ncm].reset_index(drop=True)\n",
    "    descri = acorta_descri(df.ncm_descri.iloc[0], largo = 60)\n",
    "    df=df.groupby('año',as_index=False).sum()\n",
    "    # titles = get_lista_paises(dfs)\n",
    "             \n",
    "    ncm_fob=go.Figure()\n",
    "    # for i in range(len(dfs)):\n",
    "    x=df['año']\n",
    "    ncm_fob.add_trace(go.Bar(x=x, y=df[\"fob(u$s)\"]/1000000, name=\"FOB Aceite de soja\", textposition='inside',\n",
    "    # text=dfs[i][\"fob_licuado\"]/1000, texttemplate = '%{text:.2f}'\n",
    "    ))\n",
    "\n",
    "    # ncm_fob.update_xaxes(showgrid=True, title_text=\"Mes\", title_standoff=7)\n",
    "    ncm_fob.update_yaxes(title_text=\"Millones USD\", tickformat=',')\n",
    "    ncm_fob.update_layout(uniformtext_minsize=10, uniformtext_mode='hide')\n",
    "\n",
    "    ncm_fob.update_layout(barmode='relative',separators=\",.\", \n",
    "                                            #  margin ={'t': 0},\n",
    "    height=600, width=1000, \n",
    "    xaxis = dict(tickmode = \"linear\"),\n",
    "    template = 'none',\n",
    "    title_text=f\"FOB exportado de: <br>\\\"{descri}\\\"<br><sup>En millones de dólares</sup>\",\n",
    "    legend = dict(yanchor=\"top\",y=1, xanchor=\"left\", x=1, orientation=\"v\"))\n",
    "    note = f'Fuente: @MartinBasualdo0 en base a INDEC. Datos del {ultimo_anio_disponible} hasta {ultimo_mes_disponible}'\n",
    "    ncm_fob.add_annotation(showarrow=False, text=note,font=dict(size=12), xref='paper', x=0.5, yref='paper', y=-0.1,\n",
    "                                     xanchor='right', yanchor='auto', xshift=0, yshift=0,)\n",
    "    return ncm_fob\n",
    "\n",
    "ncm_fob_anual(anio_desde=2007, ncm=\"27112100\")\n"
   ]
  },
  {
   "cell_type": "code",
   "execution_count": 24,
   "metadata": {},
   "outputs": [
    {
     "data": {
      "application/vnd.plotly.v1+json": {
       "config": {
        "plotlyServerURL": "https://plot.ly"
       },
       "data": [
        {
         "name": "Brasil",
         "type": "bar",
         "x": [
          "2019",
          "2020",
          "2021",
          "2022",
          "2023"
         ],
         "y": [
          0,
          0,
          0,
          null,
          null
         ]
        },
        {
         "name": "Chile",
         "type": "bar",
         "x": [
          "2019",
          "2020",
          "2021",
          "2022",
          "2023"
         ],
         "y": [
          324.27716021,
          217.11921456,
          125.16142229,
          688.8198715599999,
          178.38076043
         ]
        },
        {
         "name": "Sin Declarar  Continente",
         "type": "bar",
         "x": [
          "2019",
          "2020",
          "2021",
          "2022",
          "2023"
         ],
         "y": [
          0.1957563,
          18.88930209,
          33.8179665,
          51.99665819,
          2.1463234399999997
         ]
        },
        {
         "name": "Uruguay",
         "type": "bar",
         "x": [
          "2019",
          "2020",
          "2021",
          "2022",
          "2023"
         ],
         "y": [
          32.77005397,
          0,
          0,
          0,
          0
         ]
        }
       ],
       "layout": {
        "annotations": [
         {
          "font": {
           "size": 12
          },
          "showarrow": false,
          "text": "Fuente: MartinBasualdo0 en base a INDEC",
          "x": 0.26,
          "xanchor": "right",
          "xref": "paper",
          "xshift": 0,
          "y": -0.18,
          "yanchor": "auto",
          "yref": "paper",
          "yshift": 0
         }
        ],
        "barmode": "stack",
        "height": 600,
        "legend": {
         "orientation": "h",
         "xanchor": "left",
         "y": 0.9,
         "yanchor": "bottom"
        },
        "separators": ".,",
        "template": {},
        "title": {
         "text": "FOB exportado de: <br>\"Gas natural en estado gaseoso\"<br><sup>En millones de dólares</sup>"
        },
        "width": 1000,
        "yaxis": {
         "tickformat": ","
        }
       }
      }
     },
     "metadata": {},
     "output_type": "display_data"
    }
   ],
   "source": [
    "def ncm_fob_anual_pais(ncm = \"27112100\"):\n",
    "    prueba_df = df_anual.copy()\n",
    "    prueba_df = prueba_df[prueba_df.ncm == ncm].reset_index(drop=True)\n",
    "    descri = acorta_descri(prueba_df.ncm_descri.iloc[0], largo = 60)\n",
    "    prueba_df = prueba_df.pivot_table(values=\"fob(u$s)\", index=\"año\", columns=\"descri_final\")\n",
    "    fig = go.Figure()\n",
    "    for pais in prueba_df.columns:\n",
    "        fig.add_trace(go.Bar(name = pais,x = prueba_df.index, y = prueba_df[pais]/1000000))\n",
    "    fig.update_yaxes(tickformat = \",\")\n",
    "    fig.update_layout(template = None, separators = \".,\", barmode=\"stack\", \n",
    "        height=600, width=1000, \n",
    "        title=f\"FOB exportado de: <br>\\\"{descri}\\\"<br><sup>En millones de dólares</sup>\",\n",
    "        legend = dict(yanchor=\"bottom\", xanchor=\"left\", orientation=\"h\", y = .9))\n",
    "    note = f'Fuente: MartinBasualdo0 en base a INDEC'\n",
    "    fig.add_annotation(showarrow=False, text=note,font=dict(size=12), xref='paper', x=0.26, yref='paper', y=-0.18,\n",
    "                                     xanchor='right', yanchor='auto', xshift=0, yshift=0,\n",
    "    )\n",
    "    return fig\n",
    "\n",
    "ncm_fob_anual_pais()"
   ]
  },
  {
   "cell_type": "code",
   "execution_count": 25,
   "metadata": {},
   "outputs": [
    {
     "name": "stderr",
     "output_type": "stream",
     "text": [
      "C:\\Users\\mbasualdo\\AppData\\Local\\Temp\\ipykernel_10804\\2465467411.py:14: FutureWarning:\n",
      "\n",
      "The default value of numeric_only in DataFrameGroupBy.sum is deprecated. In a future version, numeric_only will default to False. Either specify numeric_only or select only columns which should be valid for the function.\n",
      "\n"
     ]
    },
    {
     "data": {
      "application/vnd.plotly.v1+json": {
       "config": {
        "plotlyServerURL": "https://plot.ly"
       },
       "data": [
        {
         "alignmentgroup": "True",
         "hovertemplate": "fecha=%{x}<br>y=%{y}<extra></extra>",
         "legendgroup": "",
         "marker": {
          "color": "#636efa",
          "pattern": {
           "shape": ""
          }
         },
         "name": "",
         "offsetgroup": "",
         "orientation": "v",
         "showlegend": false,
         "textposition": "auto",
         "type": "bar",
         "x": [
          "1/2019",
          "2/2019",
          "3/2019",
          "4/2019",
          "5/2019",
          "6/2019",
          "7/2019",
          "8/2019",
          "9/2019",
          "10/2019",
          "11/2019",
          "12/2019",
          "1/2020",
          "2/2020",
          "3/2020",
          "4/2020",
          "5/2020",
          "6/2020",
          "7/2020",
          "8/2020",
          "9/2020",
          "10/2020",
          "11/2020",
          "12/2020",
          "1/2021",
          "2/2021",
          "3/2021",
          "4/2021",
          "5/2021",
          "6/2021",
          "7/2021",
          "8/2021",
          "9/2021",
          "10/2021",
          "11/2021",
          "12/2021",
          "1/2022",
          "2/2022",
          "3/2022",
          "4/2022",
          "5/2022",
          "6/2022",
          "7/2022",
          "8/2022",
          "9/2022",
          "10/2022",
          "11/2022",
          "12/2022",
          "1/2023",
          "2/2023"
         ],
         "xaxis": "x",
         "y": [
          587.36649968,
          343.53434536000003,
          212.05673822,
          196.39798315000002,
          146.57392622,
          110.78940619999999,
          101.74384809,
          94.937331,
          70.37703034,
          51.755646420000005,
          128.2788764,
          405.78566555000003,
          727.33383331,
          373.49039796000005,
          280.74165890999996,
          150.28257124,
          80.91739798,
          66.7996277,
          71.13963841000002,
          51.993288709999995,
          53.8812927,
          14.769404289999999,
          61.90639817,
          184.09166424,
          366.13499686,
          363.64855329999995,
          287.78243832,
          250.73961959,
          195.96170505,
          173.26547423,
          163.46595860999997,
          171.16885562000002,
          126.22517651999999,
          160.88592598,
          234.45255630000003,
          628.9716845199999,
          842.4409060899999,
          759.55099349,
          609.2455409300001,
          614.2088106699999,
          438.37169698,
          232.50124910999997,
          202.31064332,
          143.11978112,
          44.4680486,
          68.11557021,
          71.56380881,
          286.29248953999996,
          149.24276357,
          73.61750504000001
         ],
         "yaxis": "y"
        }
       ],
       "layout": {
        "annotations": [
         {
          "font": {
           "size": 12
          },
          "showarrow": false,
          "text": "Fuente: MartinBasualdo0 en base a INDEC",
          "x": 0.26,
          "xanchor": "right",
          "xref": "paper",
          "xshift": 0,
          "y": -0.18,
          "yanchor": "auto",
          "yref": "paper",
          "yshift": 0
         }
        ],
        "barmode": "relative",
        "font": {
         "family": "Georgia"
        },
        "height": 600,
        "legend": {
         "orientation": "h",
         "tracegroupgap": 0,
         "x": 0,
         "xanchor": "left",
         "y": 1.07,
         "yanchor": "top"
        },
        "separators": ",.",
        "template": {
         "data": {
          "scatter": [
           {
            "type": "scatter"
           }
          ]
         }
        },
        "title": {
         "text": "FOB exportado de: <br>\"Trigo y morcajo,excluidos trigo duro y p/siembra\"<br><sup>En millones de dólares</sup>"
        },
        "uniformtext": {
         "minsize": 10,
         "mode": "hide"
        },
        "width": 1000,
        "xaxis": {
         "anchor": "y",
         "categoryarray": [
          "01-2019",
          "02-2019",
          "03-2019",
          "04-2019",
          "05-2019",
          "06-2019",
          "07-2019",
          "08-2019",
          "09-2019",
          "10-2019",
          "11-2019",
          "12-2019",
          "01-2020",
          "02-2020",
          "03-2020",
          "04-2020",
          "05-2020",
          "06-2020",
          "07-2020",
          "08-2020",
          "09-2020",
          "10-2020",
          "11-2020",
          "12-2020",
          "01-2021",
          "02-2021",
          "03-2021",
          "04-2021",
          "05-2021",
          "06-2021",
          "07-2021",
          "08-2021",
          "09-2021",
          "10-2021",
          "11-2021",
          "12-2021",
          "01-2022",
          "02-2022",
          "03-2022",
          "04-2022",
          "05-2022",
          "06-2022",
          "07-2022",
          "08-2022",
          "09-2022",
          "10-2022",
          "11-2022",
          "12-2022",
          "01-2023",
          "02-2023"
         ],
         "categoryorder": "array",
         "domain": [
          0,
          1
         ],
         "title": {
          "text": ""
         },
         "type": "category"
        },
        "yaxis": {
         "anchor": "x",
         "domain": [
          0,
          1
         ],
         "tickformat": ",",
         "title": {
          "text": "Millones USD"
         }
        }
       }
      }
     },
     "metadata": {},
     "output_type": "display_data"
    }
   ],
   "source": [
    "def ncm_fob_mensual(anio_desde,df=df_completa, ncm='12019000'):\n",
    "    ncm=str(ncm)\n",
    "    # anio_desde=str(anio_desde)\n",
    "    df = df[df['año'] >= anio_desde].reset_index(drop = True)\n",
    "\n",
    "    df=df.sort_values(['año','mes'],ascending=True).reset_index(drop=True)\n",
    "    año_final=df.año.iloc[-1]\n",
    "    mes_final=df.mes.iloc[-1]\n",
    "    hasta=str(int(mes_final)+1)+'/'+'01'+'/'+str(año_final)\n",
    "    desde=str(df.mes.iloc[0])+'/'+'01'+'/'+str(df.año.iloc[0])\n",
    "\n",
    "    df=df[df.ncm==ncm].reset_index(drop=True)\n",
    "    descri = acorta_descri(df.ncm_descri.iloc[0], largo = 60)\n",
    "    df=df.groupby(['año','mes'],as_index=False).sum()\n",
    "    df.mes=df.mes.astype(int)\n",
    "    df=df.sort_values(['año','mes'],ascending=True)\n",
    "    df.mes=df.mes.astype(str)\n",
    "    df['fecha']=df['mes'].astype(str)+'/'+df['año'].astype(str)\n",
    "        \n",
    "    monthDates = pd.DataFrame({\n",
    "    'fecha': pd.date_range(start=desde, end=hasta, freq='M').strftime('%m-%Y')\n",
    "    })\n",
    "    \n",
    "    ncm_cif=px.bar(df, x=df.fecha,y=df[\"fob(u$s)\"]/1000000,\n",
    "    title=f\"FOB exportado de: <br>\\\"{descri}\\\"<br><sup>En millones de dólares</sup>\",\n",
    "    category_orders={'fecha':monthDates.fecha}, )\n",
    "\n",
    "    ncm_cif.update_xaxes(type='category',title_text=\"\",categoryarray=monthDates.fecha)\n",
    "    ncm_cif.update_yaxes(title_text=\"Millones USD\", tickformat=',')\n",
    "    ncm_cif.update_layout(uniformtext_minsize=10, uniformtext_mode='hide')\n",
    "\n",
    "    ncm_cif.update_layout(barmode='relative',separators=\",.\", \n",
    "                                            #  margin ={'t': 0},\n",
    "    height=600, width=1000, \n",
    "    # xaxis = dict(tickmode = \"linear\"),\n",
    "    template = 'none',\n",
    "    # title_text=f\"CIF importado de :<br>\\\"Poroto de soja\\\"<br><sup>En millones de dólares</sup>\",\n",
    "    legend = dict(yanchor=\"top\",y=1.07, xanchor=\"left\", x=0.0, orientation=\"h\"))\n",
    "    note = f'Fuente: MartinBasualdo0 en base a INDEC'\n",
    "    ncm_cif.add_annotation(showarrow=False, text=note,font=dict(size=12), xref='paper', x=0.26, yref='paper', y=-0.18,\n",
    "                                     xanchor='right', yanchor='auto', xshift=0, yshift=0,)\n",
    "    return ncm_cif\n",
    "    \n",
    "ncm_fob_mensual(2019,ncm='10019900')\n"
   ]
  },
  {
   "cell_type": "code",
   "execution_count": 26,
   "metadata": {},
   "outputs": [],
   "source": [
    "df_completa.to_csv('../output/expo_desagregado_ncm_pais.csv')\n",
    "df_anual.to_csv('../output/expo_anual.csv')"
   ]
  },
  {
   "cell_type": "code",
   "execution_count": 27,
   "metadata": {},
   "outputs": [
    {
     "data": {
      "text/plain": [
       "'88445718838.32'"
      ]
     },
     "execution_count": 27,
     "metadata": {},
     "output_type": "execute_result"
    }
   ],
   "source": [
    "expo_anual = df_anual[df_anual.año == \"2022\"][\"fob(u$s)\"].sum()\n",
    "# {\":.0f\"}.format(expo_anual)\n",
    "\"{:.2f}\".format(expo_anual)"
   ]
  },
  {
   "cell_type": "code",
   "execution_count": 28,
   "metadata": {},
   "outputs": [
    {
     "name": "stderr",
     "output_type": "stream",
     "text": [
      "C:\\Users\\mbasualdo\\AppData\\Local\\Temp\\ipykernel_10804\\3412920298.py:3: FutureWarning:\n",
      "\n",
      "The default value of numeric_only in DataFrameGroupBy.sum is deprecated. In a future version, numeric_only will default to False. Either specify numeric_only or select only columns which should be valid for the function.\n",
      "\n"
     ]
    }
   ],
   "source": [
    "subpartida = df_anual.copy()\n",
    "subpartida[\"subpartida\"] = subpartida.ncm.apply(lambda x: x[:4])\n",
    "subpartida = subpartida.groupby([\"año\",\"subpartida\"],as_index=False).sum()"
   ]
  },
  {
   "cell_type": "code",
   "execution_count": 29,
   "metadata": {},
   "outputs": [],
   "source": [
    "for i in glob(\"../downloads/*\", recursive = True): os.remove(i)"
   ]
  }
 ],
 "metadata": {
  "kernelspec": {
   "display_name": "indec",
   "language": "python",
   "name": "python3"
  },
  "language_info": {
   "codemirror_mode": {
    "name": "ipython",
    "version": 3
   },
   "file_extension": ".py",
   "mimetype": "text/x-python",
   "name": "python",
   "nbconvert_exporter": "python",
   "pygments_lexer": "ipython3",
   "version": "3.10.11"
  },
  "orig_nbformat": 4,
  "vscode": {
   "interpreter": {
    "hash": "8e76e384a9df139c1746ba138f5ce3f6d0babc035eebae6bb58adb8dce6b6867"
   }
  }
 },
 "nbformat": 4,
 "nbformat_minor": 2
}

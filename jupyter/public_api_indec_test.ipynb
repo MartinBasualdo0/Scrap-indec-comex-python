{
 "cells": [
  {
   "cell_type": "markdown",
   "metadata": {},
   "source": [
    "Falta autorizacion"
   ]
  },
  {
   "cell_type": "code",
   "execution_count": 6,
   "metadata": {},
   "outputs": [
    {
     "name": "stdout",
     "output_type": "stream",
     "text": [
      "Failed to download exports_2002_M.zip\n"
     ]
    }
   ],
   "source": [
    "import requests\n",
    "import zipfile\n",
    "import io\n",
    "from requests.auth import HTTPBasicAuth\n",
    "\n",
    "# URL to the API endpoint for the zip files\n",
    "api_url = 'https://comexbe.indec.gob.ar/public-api/staticData'\n",
    "\n",
    "# Make a GET request to fetch the data\n",
    "response = requests.get(api_url)\n",
    "data = response.json()\n",
    "\n",
    "# Assuming you want to download the first zip file in the list\n",
    "zip_file_info = data['zipFiles'][0]\n",
    "zip_file_url = f\"https://comexbe.indec.gob.ar/public-api/staticData/{zip_file_info['_id']}\"\n",
    "\n",
    "# Download the zip file\n",
    "# zip_response = requests.get(zip_file_url, auth=HTTPBasicAuth('username', 'password'))\n",
    "zip_response = requests.get(zip_file_url)\n",
    "\n",
    "# Check if the request was successful\n",
    "if zip_response.ok:\n",
    "    # Open the zip file as a bytes stream\n",
    "    zip_file_bytes = io.BytesIO(zip_response.content)\n",
    "    \n",
    "    # Use zipfile to extract its contents\n",
    "    with zipfile.ZipFile(zip_file_bytes, 'r') as zip_ref:\n",
    "        # Extract all the contents into the current directory\n",
    "        zip_ref.extractall('.')\n",
    "        print(f\"Extracted {zip_file_info['_id']}\")\n",
    "else:\n",
    "    print(f\"Failed to download {zip_file_info['_id']}\")\n"
   ]
  }
 ],
 "metadata": {
  "kernelspec": {
   "display_name": "my-proj",
   "language": "python",
   "name": "python3"
  },
  "language_info": {
   "codemirror_mode": {
    "name": "ipython",
    "version": 3
   },
   "file_extension": ".py",
   "mimetype": "text/x-python",
   "name": "python",
   "nbconvert_exporter": "python",
   "pygments_lexer": "ipython3",
   "version": "3.11.5"
  }
 },
 "nbformat": 4,
 "nbformat_minor": 2
}

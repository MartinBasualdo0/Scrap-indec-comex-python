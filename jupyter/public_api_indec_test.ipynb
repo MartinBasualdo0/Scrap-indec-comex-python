{
 "cells": [
  {
   "cell_type": "markdown",
   "metadata": {},
   "source": [
    "Lo logré"
   ]
  },
  {
   "cell_type": "code",
   "execution_count": 45,
   "metadata": {},
   "outputs": [],
   "source": [
    "import requests\n",
    "from typing import Literal\n",
    "import re"
   ]
  },
  {
   "cell_type": "code",
   "execution_count": 46,
   "metadata": {},
   "outputs": [],
   "source": [
    "def _get_zip_names(commerce:Literal[\"exports\", \"imports\", \"all\"], \n",
    "                  frequency: Literal[\"Y\", \"M\", \"all\"],\n",
    "                  year_from:int = None):\n",
    "    api_url = 'https://comexbe.indec.gob.ar/public-api/staticData'\n",
    "    response = requests.get(api_url)\n",
    "    data = response.json()\n",
    "    zip_file_info = data['zipFiles']\n",
    "    id_values = [item['_id'] for item in zip_file_info]\n",
    "    if commerce != \"all\":\n",
    "        id_values = [value for value in id_values if value.startswith(commerce)]\n",
    "    if frequency != \"all\":\n",
    "        id_values = [value for value in id_values if value[-5] == frequency]\n",
    "    if year_from:\n",
    "        id_values = [value for value in id_values if int(re.findall(r'\\d+', value)[0]) >= year_from]\n",
    "    return id_values"
   ]
  },
  {
   "cell_type": "code",
   "execution_count": 48,
   "metadata": {},
   "outputs": [],
   "source": [
    "def _download_zips(zip_names:list[str]):\n",
    "    for zip_name in zip_names:\n",
    "\n",
    "        url = f'https://comex.indec.gob.ar/files/zips/{zip_name}'\n",
    "\n",
    "        # The headers from your proxy intercept, including cookies\n",
    "        headers = {\n",
    "            'Cookie': '_ga=GA1.3.713773624.1711596853; _gid=GA1.3.164217743.1711596853; cookiesession1=678A3F785F8ACD48A93F935EA37EB83A',\n",
    "            'User-Agent': 'Mozilla/5.0 (Windows NT 10.0; Win64; x64) AppleWebKit/537.36 (KHTML, like Gecko) Chrome/122.0.6261.112 Safari/537.36',\n",
    "            'Accept-Encoding': 'gzip, deflate, br',\n",
    "            'Accept-Language': 'es-419,es;q=0.9',\n",
    "            'Priority': 'u=4, i',\n",
    "            'Connection': 'close'\n",
    "        }\n",
    "\n",
    "        # Make the GET request to download the file\n",
    "        response = requests.get(url, headers=headers)\n",
    "\n",
    "        # Check if the request was successful\n",
    "        if response.status_code == 200:\n",
    "            # Open a file in write-binary mode and write the content\n",
    "            with open(f'../downloads/{zip_name}', 'wb') as file:\n",
    "                file.write(response.content)\n",
    "            print(f\"File downloaded successfully. {zip_name}\")\n",
    "        else:\n",
    "            print(f\"Failed to download the file. Status code: {response.status_code}\")\n",
    "        return \n"
   ]
  },
  {
   "cell_type": "code",
   "execution_count": 49,
   "metadata": {},
   "outputs": [],
   "source": [
    "def main_download_zips(\n",
    "    commerce:Literal[\"exports\", \"imports\", \"all\"], \n",
    "    frequency: Literal[\"Y\", \"M\", \"all\"],\n",
    "    year_from:int = None\n",
    "    ):\n",
    "    zip_names = _get_zip_names(commerce, frequency, year_from)\n",
    "    _download_zips(zip_names)\n",
    "    return"
   ]
  },
  {
   "cell_type": "code",
   "execution_count": 50,
   "metadata": {},
   "outputs": [
    {
     "name": "stdout",
     "output_type": "stream",
     "text": [
      "File downloaded successfully. exports_2015_Y.zip\n",
      "File downloaded successfully. exports_2016_Y.zip\n",
      "File downloaded successfully. exports_2017_Y.zip\n",
      "File downloaded successfully. exports_2018_Y.zip\n",
      "File downloaded successfully. exports_2019_Y.zip\n",
      "File downloaded successfully. exports_2020_Y.zip\n",
      "File downloaded successfully. exports_2021_Y.zip\n",
      "File downloaded successfully. exports_2022_Y.zip\n",
      "File downloaded successfully. exports_2023_Y.zip\n",
      "File downloaded successfully. exports_2024_Y.zip\n"
     ]
    }
   ],
   "source": [
    "main_download_zips(commerce=\"exports\", frequency=\"Y\", year_from=2015)"
   ]
  }
 ],
 "metadata": {
  "kernelspec": {
   "display_name": "my-proj",
   "language": "python",
   "name": "python3"
  },
  "language_info": {
   "codemirror_mode": {
    "name": "ipython",
    "version": 3
   },
   "file_extension": ".py",
   "mimetype": "text/x-python",
   "name": "python",
   "nbconvert_exporter": "python",
   "pygments_lexer": "ipython3",
   "version": "3.11.3"
  }
 },
 "nbformat": 4,
 "nbformat_minor": 2
}

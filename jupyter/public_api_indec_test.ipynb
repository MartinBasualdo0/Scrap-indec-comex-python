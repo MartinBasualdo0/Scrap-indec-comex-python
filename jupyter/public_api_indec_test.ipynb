{
 "cells": [
  {
   "cell_type": "markdown",
   "metadata": {},
   "source": [
    "Lo logré"
   ]
  },
  {
   "cell_type": "code",
   "execution_count": 1,
   "metadata": {},
   "outputs": [
    {
     "name": "stdout",
     "output_type": "stream",
     "text": [
      "File downloaded successfully.\n"
     ]
    }
   ],
   "source": [
    "import requests\n",
    "\n",
    "# The URL of the file you want to download\n",
    "url = 'https://comex.indec.gob.ar/files/zips/imports_2024_M.zip'\n",
    "\n",
    "# The headers from your proxy intercept, including cookies\n",
    "headers = {\n",
    "    'Cookie': '_ga=GA1.3.713773624.1711596853; _gid=GA1.3.164217743.1711596853; cookiesession1=678A3F785F8ACD48A93F935EA37EB83A',\n",
    "    'User-Agent': 'Mozilla/5.0 (Windows NT 10.0; Win64; x64) AppleWebKit/537.36 (KHTML, like Gecko) Chrome/122.0.6261.112 Safari/537.36',\n",
    "    'Accept-Encoding': 'gzip, deflate, br',\n",
    "    'Accept-Language': 'es-419,es;q=0.9',\n",
    "    'Priority': 'u=4, i',\n",
    "    'Connection': 'close'\n",
    "}\n",
    "\n",
    "# Make the GET request to download the file\n",
    "response = requests.get(url, headers=headers)\n",
    "\n",
    "# Check if the request was successful\n",
    "if response.status_code == 200:\n",
    "    # Open a file in write-binary mode and write the content\n",
    "    with open('imports_2024_M.zip', 'wb') as file:\n",
    "        file.write(response.content)\n",
    "    print(\"File downloaded successfully.\")\n",
    "else:\n",
    "    print(f\"Failed to download the file. Status code: {response.status_code}\")\n"
   ]
  },
  {
   "cell_type": "code",
   "execution_count": 6,
   "metadata": {},
   "outputs": [
    {
     "name": "stdout",
     "output_type": "stream",
     "text": [
      "Failed to download exports_2002_M.zip\n"
     ]
    }
   ],
   "source": [
    "import requests\n",
    "import zipfile\n",
    "import io\n",
    "from requests.auth import HTTPBasicAuth\n",
    "\n",
    "# URL to the API endpoint for the zip files\n",
    "api_url = 'https://comexbe.indec.gob.ar/public-api/staticData'\n",
    "\n",
    "# Make a GET request to fetch the data\n",
    "response = requests.get(api_url)\n",
    "data = response.json()\n",
    "\n",
    "# Assuming you want to download the first zip file in the list\n",
    "zip_file_info = data['zipFiles'][0]\n",
    "zip_file_url = f\"https://comexbe.indec.gob.ar/public-api/staticData/{zip_file_info['_id']}\"\n",
    "\n",
    "# Download the zip file\n",
    "# zip_response = requests.get(zip_file_url, auth=HTTPBasicAuth('username', 'password'))\n",
    "zip_response = requests.get(zip_file_url)\n",
    "\n",
    "# Check if the request was successful\n",
    "if zip_response.ok:\n",
    "    # Open the zip file as a bytes stream\n",
    "    zip_file_bytes = io.BytesIO(zip_response.content)\n",
    "    \n",
    "    # Use zipfile to extract its contents\n",
    "    with zipfile.ZipFile(zip_file_bytes, 'r') as zip_ref:\n",
    "        # Extract all the contents into the current directory\n",
    "        zip_ref.extractall('.')\n",
    "        print(f\"Extracted {zip_file_info['_id']}\")\n",
    "else:\n",
    "    print(f\"Failed to download {zip_file_info['_id']}\")\n"
   ]
  }
 ],
 "metadata": {
  "kernelspec": {
   "display_name": "my-proj",
   "language": "python",
   "name": "python3"
  },
  "language_info": {
   "codemirror_mode": {
    "name": "ipython",
    "version": 3
   },
   "file_extension": ".py",
   "mimetype": "text/x-python",
   "name": "python",
   "nbconvert_exporter": "python",
   "pygments_lexer": "ipython3",
   "version": "3.11.3"
  }
 },
 "nbformat": 4,
 "nbformat_minor": 2
}

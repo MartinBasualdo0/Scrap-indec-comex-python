{
 "cells": [
  {
   "cell_type": "markdown",
   "metadata": {},
   "source": [
    "Lo logré"
   ]
  },
  {
   "cell_type": "code",
   "execution_count": 1,
   "metadata": {},
   "outputs": [],
   "source": [
    "from config_jupyter.config import set_wd\n",
    "set_wd()\n",
    "from modules.indec_request import main_download_zips"
   ]
  },
  {
   "cell_type": "code",
   "execution_count": 2,
   "metadata": {},
   "outputs": [
    {
     "name": "stdout",
     "output_type": "stream",
     "text": [
      "File downloaded successfully. exports_2015_Y.zip\n",
      "File downloaded successfully. exports_2016_Y.zip\n",
      "File downloaded successfully. exports_2017_Y.zip\n",
      "File downloaded successfully. exports_2018_Y.zip\n",
      "File downloaded successfully. exports_2019_Y.zip\n",
      "File downloaded successfully. exports_2020_Y.zip\n",
      "File downloaded successfully. exports_2021_Y.zip\n",
      "File downloaded successfully. exports_2022_Y.zip\n",
      "File downloaded successfully. exports_2023_Y.zip\n",
      "File downloaded successfully. exports_2024_Y.zip\n"
     ]
    }
   ],
   "source": [
    "main_download_zips(\"exports\", \"Y\",2015, True)"
   ]
  }
 ],
 "metadata": {
  "kernelspec": {
   "display_name": "my-proj",
   "language": "python",
   "name": "python3"
  },
  "language_info": {
   "codemirror_mode": {
    "name": "ipython",
    "version": 3
   },
   "file_extension": ".py",
   "mimetype": "text/x-python",
   "name": "python",
   "nbconvert_exporter": "python",
   "pygments_lexer": "ipython3",
   "version": "3.11.3"
  }
 },
 "nbformat": 4,
 "nbformat_minor": 2
}
